{
 "cells": [
  {
   "cell_type": "markdown",
   "metadata": {},
   "source": [
    "# Regularization and Optimization Lab\n",
    "\n",
    "## Objective\n",
    "\n",
    "In this lab, we'll gain experience detecting and dealing with a ANN model that is overfitting using various regularization and hyperparameter tuning techniques!"
   ]
  },
  {
   "cell_type": "markdown",
   "metadata": {},
   "source": [
    "## Getting Started\n",
    "\n",
    "In this lab, we'll work with a large dataset of customer complaints to a bank, with the goal of predicting what product the customer is complaining about based on the text of their complaint.  There are 7 different possible products that we can predict, making this a multi-class classification task. \n",
    "\n",
    "\n",
    "#### Preprocessing our Data Set\n",
    "We'll start by preprocessing our dataset by tokenizing the complaints and limiting the number of words we consider to reduce dimensionality. \n",
    "\n",
    "#### Building our Tuning our Model\n",
    "Once we have preprocessed our data set, we'll build a model and explore the various ways that we can reduce overfitting using the following strategies:\n",
    "- Early stopping to minimize the discrepancy between train and test accuracy.\n",
    "- L1 and L2 regularization.\n",
    "- Dropout regularization.\n",
    "- Using more data.\n",
    "\n",
    "\n",
    "**_Let's Get Started!_**"
   ]
  },
  {
   "cell_type": "markdown",
   "metadata": {},
   "source": [
    "## 2. Preprocessing the Bank Complaints Data Set"
   ]
  },
  {
   "cell_type": "markdown",
   "metadata": {},
   "source": [
    "### 2.1 Import the libraries and take a sample\n",
    "\n",
    "Run the cell below to import everything we'll need for this lab. "
   ]
  },
  {
   "cell_type": "code",
   "execution_count": 12,
   "metadata": {},
   "outputs": [],
   "source": [
    "import matplotlib.pyplot as plt\n",
    "import pandas as pd\n",
    "import numpy as np\n",
    "from sklearn.model_selection import train_test_split\n",
    "from keras.utils.np_utils import to_categorical\n",
    "from sklearn import preprocessing\n",
    "from keras.preprocessing.text import Tokenizer\n",
    "import random\n",
    "random.seed(0)"
   ]
  },
  {
   "cell_type": "markdown",
   "metadata": {},
   "source": [
    "Now, in the cell below, import our data into a DataFrame.  The data is currently stored in `Bank_complaints.csv`.\n",
    "Then, `.describe()` the dataset to get a feel for what we're working with. "
   ]
  },
  {
   "cell_type": "code",
   "execution_count": 13,
   "metadata": {},
   "outputs": [
    {
     "data": {
      "text/html": [
       "<div>\n",
       "<style scoped>\n",
       "    .dataframe tbody tr th:only-of-type {\n",
       "        vertical-align: middle;\n",
       "    }\n",
       "\n",
       "    .dataframe tbody tr th {\n",
       "        vertical-align: top;\n",
       "    }\n",
       "\n",
       "    .dataframe thead th {\n",
       "        text-align: right;\n",
       "    }\n",
       "</style>\n",
       "<table border=\"1\" class=\"dataframe\">\n",
       "  <thead>\n",
       "    <tr style=\"text-align: right;\">\n",
       "      <th></th>\n",
       "      <th>Product</th>\n",
       "      <th>Consumer complaint narrative</th>\n",
       "    </tr>\n",
       "  </thead>\n",
       "  <tbody>\n",
       "    <tr>\n",
       "      <th>count</th>\n",
       "      <td>60000</td>\n",
       "      <td>60000</td>\n",
       "    </tr>\n",
       "    <tr>\n",
       "      <th>unique</th>\n",
       "      <td>7</td>\n",
       "      <td>59724</td>\n",
       "    </tr>\n",
       "    <tr>\n",
       "      <th>top</th>\n",
       "      <td>Student loan</td>\n",
       "      <td>I am filing this complaint because Experian ha...</td>\n",
       "    </tr>\n",
       "    <tr>\n",
       "      <th>freq</th>\n",
       "      <td>11404</td>\n",
       "      <td>26</td>\n",
       "    </tr>\n",
       "  </tbody>\n",
       "</table>\n",
       "</div>"
      ],
      "text/plain": [
       "             Product                       Consumer complaint narrative\n",
       "count          60000                                              60000\n",
       "unique             7                                              59724\n",
       "top     Student loan  I am filing this complaint because Experian ha...\n",
       "freq           11404                                                 26"
      ]
     },
     "execution_count": 13,
     "metadata": {},
     "output_type": "execute_result"
    }
   ],
   "source": [
    "df =  pd.read_csv('Bank_complaints.csv')\n",
    "df.describe()\n"
   ]
  },
  {
   "cell_type": "markdown",
   "metadata": {},
   "source": [
    "In order to speed things up during the development process (and also to give us the ability to see how adding more data affects our model performance), we're going to work with a sample of our dataset rather than the whole thing.  The entire dataset consists of 60,000 rows--we're going to build a model using only 10,000 items randomly sampled from this.\n",
    "\n",
    "In the cell below:\n",
    "\n",
    "* Get a random sample of `10000` items from our dataset (HINT: use the `df` object's `.sample()` method to make this easy)\n",
    "* Reset the indexes on these samples to `range(10000)`, so that the indices for our rows are sequential and make sense.\n",
    "* Store our labels, which are found in `\"Product\"`, in a different variable.\n",
    "* Store the data, found in `\"Consumer complaint narrative`, in the variable `complaints`."
   ]
  },
  {
   "cell_type": "code",
   "execution_count": 14,
   "metadata": {},
   "outputs": [],
   "source": [
    "df = df.sample(10000)\n",
    "df.index = range(10000)\n",
    "product = df.Product\n",
    "complaints = df['Consumer complaint narrative']"
   ]
  },
  {
   "cell_type": "markdown",
   "metadata": {},
   "source": [
    "### 2.2 Tokenizing the Complaints"
   ]
  },
  {
   "cell_type": "markdown",
   "metadata": {},
   "source": [
    "We'll only keep 2,000 most common words and use one-hot encoding to quickly vectorize our dataset from text into a format that a neural network can work with. \n",
    "\n",
    "In the cell below:\n",
    "\n",
    "* Create a `Tokenizer()` object, and set the `num_words` parameter to `2000`.\n",
    "* Call the tokenizer object's `fit_on_texts()` method and pass in our `complaints` variable we created above. \n"
   ]
  },
  {
   "cell_type": "code",
   "execution_count": 16,
   "metadata": {},
   "outputs": [],
   "source": [
    "tokenizer = Tokenizer(num_words=2000)\n",
    "tokenizer.fit_on_texts(complaints)\n"
   ]
  },
  {
   "cell_type": "markdown",
   "metadata": {},
   "source": [
    "Now, we'll create some text sequences by calling the `tokenizer` object's `.texts_to_sequences()` method and feeding in our `complaints` object."
   ]
  },
  {
   "cell_type": "code",
   "execution_count": 17,
   "metadata": {},
   "outputs": [],
   "source": [
    "sequences = tokenizer.texts_to_sequences(complaints)"
   ]
  },
  {
   "cell_type": "markdown",
   "metadata": {},
   "source": [
    "Finally, we'll convert our text data from text to a vectorized matrix.  \n",
    "\n",
    "In the cell below:\n",
    "\n",
    "* Call the `tokenizer` object's `.texts_to_matrix` method, passing in our `complaints` variable, as well as setting the `mode` parameter equal to `'binary'`.\n",
    "* Store the tokenizer's `.word_index` in the appropriate variable.\n",
    "* Check the `np.shape()` of our `one_hot_results`."
   ]
  },
  {
   "cell_type": "code",
   "execution_count": 26,
   "metadata": {},
   "outputs": [
    {
     "data": {
      "text/plain": [
       "(10000, 2000)"
      ]
     },
     "execution_count": 26,
     "metadata": {},
     "output_type": "execute_result"
    }
   ],
   "source": [
    "one_hot_results= tokenizer.texts_to_matrix(complaints,mode='binary')\n",
    "word_index = tokenizer.word_index\n",
    "np.shape(one_hot_results) # Expected Results (10000, 2000)"
   ]
  },
  {
   "cell_type": "markdown",
   "metadata": {},
   "source": [
    "### 2.3 One-hot Encoding of the Products Column"
   ]
  },
  {
   "cell_type": "markdown",
   "metadata": {},
   "source": [
    "Now that we've tokenized and encoded our text data, we still need to one-hot encode our label data.  \n",
    "\n",
    "In the cell below:\n",
    "\n",
    "\n",
    "* Create a `LabelEncoder` object, which can found inside the `preprocessing` module.\n",
    "* `fit` the label encoder we just created to `product`."
   ]
  },
  {
   "cell_type": "code",
   "execution_count": 25,
   "metadata": {},
   "outputs": [
    {
     "data": {
      "text/plain": [
       "LabelEncoder()"
      ]
     },
     "execution_count": 25,
     "metadata": {},
     "output_type": "execute_result"
    }
   ],
   "source": [
    "le = preprocessing.LabelEncoder()\n",
    "le.fit(product)"
   ]
  },
  {
   "cell_type": "markdown",
   "metadata": {},
   "source": [
    "Let's check what classes our label encoder found.  Run the cell below to examine a list of classes that `product` contains."
   ]
  },
  {
   "cell_type": "code",
   "execution_count": 27,
   "metadata": {},
   "outputs": [
    {
     "data": {
      "text/plain": [
       "['Bank account or service',\n",
       " 'Checking or savings account',\n",
       " 'Consumer Loan',\n",
       " 'Credit card',\n",
       " 'Credit reporting',\n",
       " 'Mortgage',\n",
       " 'Student loan']"
      ]
     },
     "execution_count": 27,
     "metadata": {},
     "output_type": "execute_result"
    }
   ],
   "source": [
    " list(le.classes_)"
   ]
  },
  {
   "cell_type": "markdown",
   "metadata": {},
   "source": [
    "Now, we'll need to transform `product` into a numeric vector.  \n",
    "\n",
    "In the cell below, use the label encoder's `.transform` method on `product` to create an integer encoded version of our labels. \n",
    "\n",
    "Then, access `product_cat` to see an example of how the labels are now encoded. "
   ]
  },
  {
   "cell_type": "code",
   "execution_count": 34,
   "metadata": {},
   "outputs": [
    {
     "data": {
      "text/plain": [
       "array([6, 4, 2, ..., 5, 0, 2])"
      ]
     },
     "execution_count": 34,
     "metadata": {},
     "output_type": "execute_result"
    }
   ],
   "source": [
    "product_cat = le.transform(product)\n",
    "product_cat"
   ]
  },
  {
   "cell_type": "markdown",
   "metadata": {},
   "source": [
    "Now, we need to go from integer encoding to one-hot encoding.  Use the `to_categorical` method from keras to do this easily in the cell below."
   ]
  },
  {
   "cell_type": "code",
   "execution_count": 35,
   "metadata": {},
   "outputs": [],
   "source": [
    "product_onehot = to_categorical(product_cat)"
   ]
  },
  {
   "cell_type": "code",
   "execution_count": 36,
   "metadata": {},
   "outputs": [
    {
     "data": {
      "text/plain": [
       "array([[0., 0., 0., ..., 0., 0., 1.],\n",
       "       [0., 0., 0., ..., 1., 0., 0.],\n",
       "       [0., 0., 1., ..., 0., 0., 0.],\n",
       "       ...,\n",
       "       [0., 0., 0., ..., 0., 1., 0.],\n",
       "       [1., 0., 0., ..., 0., 0., 0.],\n",
       "       [0., 0., 1., ..., 0., 0., 0.]], dtype=float32)"
      ]
     },
     "execution_count": 36,
     "metadata": {},
     "output_type": "execute_result"
    }
   ],
   "source": [
    "product_onehot"
   ]
  },
  {
   "cell_type": "markdown",
   "metadata": {},
   "source": [
    "Finally, let's check the shape of our one-hot encoded labels to make sure everything worked correctly."
   ]
  },
  {
   "cell_type": "code",
   "execution_count": 37,
   "metadata": {},
   "outputs": [
    {
     "data": {
      "text/plain": [
       "(10000, 7)"
      ]
     },
     "execution_count": 37,
     "metadata": {},
     "output_type": "execute_result"
    }
   ],
   "source": [
    "np.shape(product_onehot) # Expected Output: (10000, 7)"
   ]
  },
  {
   "cell_type": "markdown",
   "metadata": {},
   "source": [
    "### 2.4 Train - test split\n",
    "\n",
    "Now, we'll split our data into training and testing sets.  \n",
    "\n",
    "\n",
    "We'll accomplish this by generating a random list of 1500 different indices between 1 and 10000.  Then, we'll slice these rows and store them as our test set, and delete them from the training set (it's very important to remember to remove them from the training set!)\n",
    "\n",
    "Run the cell below to create a set of random indices for our test set. "
   ]
  },
  {
   "cell_type": "code",
   "execution_count": 38,
   "metadata": {},
   "outputs": [],
   "source": [
    "test_index = random.sample(range(1,10000), 1500)"
   ]
  },
  {
   "cell_type": "markdown",
   "metadata": {},
   "source": [
    "Now:\n",
    "\n",
    "* Slice the `test_index` rows from `one_hot_results` and store them in `test`."
   ]
  },
  {
   "cell_type": "code",
   "execution_count": 43,
   "metadata": {},
   "outputs": [],
   "source": [
    "test = one_hot_results[test_index]\n",
    "\n",
    "# This line returns a version of our one_hot_results that has every item with an index in test_index removed\n",
    "train = np.delete(one_hot_results, test_index, 0)"
   ]
  },
  {
   "cell_type": "markdown",
   "metadata": {},
   "source": [
    "Now, we'll need to repeat the splitting process on our labels, making sure that we use the same indices we used to split our data. \n",
    "\n",
    "In the cell below:\n",
    "\n",
    "* Slice `test_index` from `product_onehot`\n",
    "* Use `np.delete` to remove `test_index` items from `product_onehot` (the syntax is exactly the same above)"
   ]
  },
  {
   "cell_type": "code",
   "execution_count": 46,
   "metadata": {},
   "outputs": [],
   "source": [
    "label_test = product_onehot[test_index]\n",
    "label_train = np.delete(product_onehot, test_index, 0)"
   ]
  },
  {
   "cell_type": "markdown",
   "metadata": {},
   "source": [
    "Now, let's examine the shape everything we just did to make sure that the dimensions match up.  \n",
    "\n",
    "In the cell below, use `np.shape` to check the shape of:\n",
    "\n",
    "* `label_test`\n",
    "* `label_train`\n",
    "* `test`\n",
    "* `train`"
   ]
  },
  {
   "cell_type": "code",
   "execution_count": 47,
   "metadata": {},
   "outputs": [
    {
     "name": "stdout",
     "output_type": "stream",
     "text": [
      "(1500, 7)\n",
      "(8500, 7)\n",
      "(1500, 2000)\n",
      "(8500, 2000)\n"
     ]
    }
   ],
   "source": [
    "print(np.shape(label_test)) # Expected Output: (1500, 7)\n",
    "print(np.shape(label_train)) # Expected Output: (8500, 7)\n",
    "print(np.shape(test)) # Expected Output: (1500, 2000)\n",
    "print(np.shape(train)) # Expected Output: (8500, 2000)"
   ]
  },
  {
   "cell_type": "markdown",
   "metadata": {},
   "source": [
    "## 3. Running the model using a validation set."
   ]
  },
  {
   "cell_type": "markdown",
   "metadata": {},
   "source": [
    "### 3.1 Creating the validation set"
   ]
  },
  {
   "cell_type": "markdown",
   "metadata": {},
   "source": [
    "In the lecture we mentioned that in deep learning, we generally keep aside a validation set, which is used during hyperparameter tuning. Then when we have made the final model decision, the test set is used to define the final model perforance. \n",
    "\n",
    "In this example, let's take the first 1000 cases out of the training set to become the validation set. You should do this for both `train` and `label_train`.\n",
    "\n",
    "Run the cell below to create our validation set. "
   ]
  },
  {
   "cell_type": "code",
   "execution_count": 48,
   "metadata": {},
   "outputs": [],
   "source": [
    "random.seed(123)\n",
    "val = train[:1000]\n",
    "train_final = train[1000:]\n",
    "label_val = label_train[:1000]\n",
    "label_train_final = label_train[1000:]"
   ]
  },
  {
   "cell_type": "markdown",
   "metadata": {},
   "source": [
    "### 3.2 Creating, compiling and running the model"
   ]
  },
  {
   "cell_type": "markdown",
   "metadata": {},
   "source": [
    "Let's rebuild a fully connected (Dense) layer network with relu activations in Keras."
   ]
  },
  {
   "cell_type": "markdown",
   "metadata": {},
   "source": [
    "Recall that we used 2 hidden with 50 units in the first layer and 25 in the second, both with a `relu` activation function. Because we are dealing with a multiclass problem (classifying the complaints into 7 classes), we use a use a softmax classifier in order to output 7 class probabilities per case.\n",
    "\n",
    "In the cell below:\n",
    "\n",
    "* Import `Sequential` from the appropriate module in keras.\n",
    "* Import `Dense` from the appropriate module in keras."
   ]
  },
  {
   "cell_type": "code",
   "execution_count": 52,
   "metadata": {},
   "outputs": [],
   "source": [
    "from keras.models import Sequential\n",
    "from keras.layers import Dense\n"
   ]
  },
  {
   "cell_type": "markdown",
   "metadata": {},
   "source": [
    "Now, build a model with the following specifications in the cell below:\n",
    "\n",
    "* An input layer of shape `(2000,)`\n",
    "* Hidden layer 1: Dense, 50 neurons, relu activation \n",
    "* Hidden layer 2: Dense, 25 neurons, relu activation\n",
    "* Output layer: Dense, 7 neurons, softmax activation"
   ]
  },
  {
   "cell_type": "code",
   "execution_count": 53,
   "metadata": {},
   "outputs": [],
   "source": [
    "model = Sequential()\n",
    "model.add(Dense(50, activation='relu', input_shape=(2000,))) \n",
    "model.add(Dense(25, activation='relu'))\n",
    "model.add(Dense(7, activation='softmax'))"
   ]
  },
  {
   "cell_type": "markdown",
   "metadata": {},
   "source": [
    "In the cell below, `compile` the model with the following settings:\n",
    "\n",
    "* Optimizer is `\"SGD\"`\n",
    "* Loss is `'categorical_crossentropy'`\n",
    "* metrics is `['accuracy']`"
   ]
  },
  {
   "cell_type": "code",
   "execution_count": 54,
   "metadata": {},
   "outputs": [],
   "source": [
    "model.compile(optimizer='SGD',\n",
    "              loss='categorical_crossentropy',\n",
    "              metrics=['accuracy'])"
   ]
  },
  {
   "cell_type": "markdown",
   "metadata": {},
   "source": [
    "Now, Train the model for 120 epochs in mini-batches of 256 samples. Also pass in `(val, label_val)` to the `validation_data` parameter, so that we see how our model does on the test set after every epoch. "
   ]
  },
  {
   "cell_type": "code",
   "execution_count": 58,
   "metadata": {
    "scrolled": true
   },
   "outputs": [
    {
     "name": "stdout",
     "output_type": "stream",
     "text": [
      "Train on 7500 samples, validate on 1000 samples\n",
      "Epoch 1/120\n",
      "7500/7500 [==============================] - 1s 114us/step - loss: 1.9422 - acc: 0.1879 - val_loss: 1.9513 - val_acc: 0.1720\n",
      "Epoch 2/120\n",
      "7500/7500 [==============================] - 0s 64us/step - loss: 1.9220 - acc: 0.1980 - val_loss: 1.9326 - val_acc: 0.1780\n",
      "Epoch 3/120\n",
      "7500/7500 [==============================] - 0s 47us/step - loss: 1.9029 - acc: 0.2068 - val_loss: 1.9139 - val_acc: 0.1880\n",
      "Epoch 4/120\n",
      "7500/7500 [==============================] - 0s 43us/step - loss: 1.8820 - acc: 0.2179 - val_loss: 1.8934 - val_acc: 0.2030\n",
      "Epoch 5/120\n",
      "7500/7500 [==============================] - 0s 42us/step - loss: 1.8579 - acc: 0.2337 - val_loss: 1.8704 - val_acc: 0.2120\n",
      "Epoch 6/120\n",
      "7500/7500 [==============================] - 0s 47us/step - loss: 1.8309 - acc: 0.2488 - val_loss: 1.8435 - val_acc: 0.2390\n",
      "Epoch 7/120\n",
      "7500/7500 [==============================] - 0s 42us/step - loss: 1.8012 - acc: 0.2768 - val_loss: 1.8145 - val_acc: 0.2590\n",
      "Epoch 8/120\n",
      "7500/7500 [==============================] - 0s 46us/step - loss: 1.7684 - acc: 0.2980 - val_loss: 1.7820 - val_acc: 0.2950\n",
      "Epoch 9/120\n",
      "7500/7500 [==============================] - 0s 47us/step - loss: 1.7325 - acc: 0.3285 - val_loss: 1.7461 - val_acc: 0.3270\n",
      "Epoch 10/120\n",
      "7500/7500 [==============================] - 0s 56us/step - loss: 1.6940 - acc: 0.3577 - val_loss: 1.7088 - val_acc: 0.3460\n",
      "Epoch 11/120\n",
      "7500/7500 [==============================] - 0s 47us/step - loss: 1.6528 - acc: 0.3849 - val_loss: 1.6685 - val_acc: 0.3670\n",
      "Epoch 12/120\n",
      "7500/7500 [==============================] - 0s 43us/step - loss: 1.6090 - acc: 0.4081 - val_loss: 1.6247 - val_acc: 0.3980\n",
      "Epoch 13/120\n",
      "7500/7500 [==============================] - 0s 44us/step - loss: 1.5632 - acc: 0.4431 - val_loss: 1.5793 - val_acc: 0.4240\n",
      "Epoch 14/120\n",
      "7500/7500 [==============================] - 0s 41us/step - loss: 1.5161 - acc: 0.4736 - val_loss: 1.5313 - val_acc: 0.4480\n",
      "Epoch 15/120\n",
      "7500/7500 [==============================] - 0s 44us/step - loss: 1.4680 - acc: 0.5052 - val_loss: 1.4859 - val_acc: 0.4800\n",
      "Epoch 16/120\n",
      "7500/7500 [==============================] - 0s 49us/step - loss: 1.4197 - acc: 0.5345 - val_loss: 1.4370 - val_acc: 0.5130\n",
      "Epoch 17/120\n",
      "7500/7500 [==============================] - 0s 49us/step - loss: 1.3713 - acc: 0.5640 - val_loss: 1.3910 - val_acc: 0.5280\n",
      "Epoch 18/120\n",
      "7500/7500 [==============================] - 0s 55us/step - loss: 1.3238 - acc: 0.5897 - val_loss: 1.3450 - val_acc: 0.5530\n",
      "Epoch 19/120\n",
      "7500/7500 [==============================] - 0s 49us/step - loss: 1.2779 - acc: 0.6131 - val_loss: 1.3012 - val_acc: 0.5770\n",
      "Epoch 20/120\n",
      "7500/7500 [==============================] - 0s 49us/step - loss: 1.2335 - acc: 0.6292 - val_loss: 1.2589 - val_acc: 0.5900\n",
      "Epoch 21/120\n",
      "7500/7500 [==============================] - 0s 62us/step - loss: 1.1908 - acc: 0.6429 - val_loss: 1.2174 - val_acc: 0.6120\n",
      "Epoch 22/120\n",
      "7500/7500 [==============================] - 0s 51us/step - loss: 1.1500 - acc: 0.6569 - val_loss: 1.1811 - val_acc: 0.6180\n",
      "Epoch 23/120\n",
      "7500/7500 [==============================] - 0s 50us/step - loss: 1.1118 - acc: 0.6641 - val_loss: 1.1426 - val_acc: 0.6360\n",
      "Epoch 24/120\n",
      "7500/7500 [==============================] - 0s 47us/step - loss: 1.0757 - acc: 0.6735 - val_loss: 1.1099 - val_acc: 0.6450\n",
      "Epoch 25/120\n",
      "7500/7500 [==============================] - 0s 44us/step - loss: 1.0416 - acc: 0.6831 - val_loss: 1.0793 - val_acc: 0.6530\n",
      "Epoch 26/120\n",
      "7500/7500 [==============================] - 0s 44us/step - loss: 1.0096 - acc: 0.6919 - val_loss: 1.0503 - val_acc: 0.6640\n",
      "Epoch 27/120\n",
      "7500/7500 [==============================] - 0s 46us/step - loss: 0.9801 - acc: 0.6983 - val_loss: 1.0239 - val_acc: 0.6630\n",
      "Epoch 28/120\n",
      "7500/7500 [==============================] - 0s 47us/step - loss: 0.9522 - acc: 0.7024 - val_loss: 0.9978 - val_acc: 0.6680\n",
      "Epoch 29/120\n",
      "7500/7500 [==============================] - 0s 46us/step - loss: 0.9264 - acc: 0.7113 - val_loss: 0.9762 - val_acc: 0.6760\n",
      "Epoch 30/120\n",
      "7500/7500 [==============================] - 0s 47us/step - loss: 0.9020 - acc: 0.7152 - val_loss: 0.9549 - val_acc: 0.6740\n",
      "Epoch 31/120\n",
      "7500/7500 [==============================] - 0s 48us/step - loss: 0.8794 - acc: 0.7203 - val_loss: 0.9359 - val_acc: 0.6860\n",
      "Epoch 32/120\n",
      "7500/7500 [==============================] - 0s 46us/step - loss: 0.8579 - acc: 0.7235 - val_loss: 0.9162 - val_acc: 0.6850\n",
      "Epoch 33/120\n",
      "7500/7500 [==============================] - 0s 43us/step - loss: 0.8384 - acc: 0.7272 - val_loss: 0.9014 - val_acc: 0.6910\n",
      "Epoch 34/120\n",
      "7500/7500 [==============================] - 0s 39us/step - loss: 0.8197 - acc: 0.7331 - val_loss: 0.8856 - val_acc: 0.6840\n",
      "Epoch 35/120\n",
      "7500/7500 [==============================] - 0s 53us/step - loss: 0.8026 - acc: 0.7344 - val_loss: 0.8697 - val_acc: 0.6950\n",
      "Epoch 36/120\n",
      "7500/7500 [==============================] - 0s 49us/step - loss: 0.7863 - acc: 0.7387 - val_loss: 0.8590 - val_acc: 0.7010\n",
      "Epoch 37/120\n",
      "7500/7500 [==============================] - 0s 46us/step - loss: 0.7709 - acc: 0.7413 - val_loss: 0.8467 - val_acc: 0.7080\n",
      "Epoch 38/120\n",
      "7500/7500 [==============================] - 0s 41us/step - loss: 0.7563 - acc: 0.7456 - val_loss: 0.8362 - val_acc: 0.7130\n",
      "Epoch 39/120\n",
      "7500/7500 [==============================] - 0s 48us/step - loss: 0.7429 - acc: 0.7483 - val_loss: 0.8261 - val_acc: 0.7000\n",
      "Epoch 40/120\n",
      "7500/7500 [==============================] - 0s 42us/step - loss: 0.7303 - acc: 0.7497 - val_loss: 0.8132 - val_acc: 0.7130\n",
      "Epoch 41/120\n",
      "7500/7500 [==============================] - 0s 51us/step - loss: 0.7181 - acc: 0.7545 - val_loss: 0.8070 - val_acc: 0.7150\n",
      "Epoch 42/120\n",
      "7500/7500 [==============================] - 0s 50us/step - loss: 0.7065 - acc: 0.7588 - val_loss: 0.7983 - val_acc: 0.7180\n",
      "Epoch 43/120\n",
      "7500/7500 [==============================] - 0s 47us/step - loss: 0.6959 - acc: 0.7607 - val_loss: 0.7919 - val_acc: 0.7050\n",
      "Epoch 44/120\n",
      "7500/7500 [==============================] - 0s 45us/step - loss: 0.6857 - acc: 0.7641 - val_loss: 0.7849 - val_acc: 0.7160\n",
      "Epoch 45/120\n",
      "7500/7500 [==============================] - 0s 44us/step - loss: 0.6758 - acc: 0.7659 - val_loss: 0.7738 - val_acc: 0.7140\n",
      "Epoch 46/120\n",
      "7500/7500 [==============================] - 0s 50us/step - loss: 0.6661 - acc: 0.7693 - val_loss: 0.7680 - val_acc: 0.7150\n",
      "Epoch 47/120\n",
      "7500/7500 [==============================] - 0s 48us/step - loss: 0.6573 - acc: 0.7715 - val_loss: 0.7621 - val_acc: 0.7160\n",
      "Epoch 48/120\n",
      "7500/7500 [==============================] - 0s 66us/step - loss: 0.6485 - acc: 0.7751 - val_loss: 0.7574 - val_acc: 0.7210\n",
      "Epoch 49/120\n",
      "7500/7500 [==============================] - 0s 49us/step - loss: 0.6408 - acc: 0.7772 - val_loss: 0.7508 - val_acc: 0.7210\n",
      "Epoch 50/120\n",
      "7500/7500 [==============================] - 0s 56us/step - loss: 0.6322 - acc: 0.7793 - val_loss: 0.7493 - val_acc: 0.7260\n",
      "Epoch 51/120\n",
      "7500/7500 [==============================] - 0s 56us/step - loss: 0.6248 - acc: 0.7816 - val_loss: 0.7417 - val_acc: 0.7290\n",
      "Epoch 52/120\n",
      "7500/7500 [==============================] - 0s 51us/step - loss: 0.6172 - acc: 0.7843 - val_loss: 0.7385 - val_acc: 0.7210\n",
      "Epoch 53/120\n",
      "7500/7500 [==============================] - 0s 48us/step - loss: 0.6104 - acc: 0.7871 - val_loss: 0.7341 - val_acc: 0.7290\n",
      "Epoch 54/120\n",
      "7500/7500 [==============================] - 0s 52us/step - loss: 0.6034 - acc: 0.7884 - val_loss: 0.7292 - val_acc: 0.7270\n",
      "Epoch 55/120\n",
      "7500/7500 [==============================] - 0s 59us/step - loss: 0.5968 - acc: 0.7911 - val_loss: 0.7281 - val_acc: 0.7240\n",
      "Epoch 56/120\n",
      "7500/7500 [==============================] - 0s 47us/step - loss: 0.5903 - acc: 0.7899 - val_loss: 0.7223 - val_acc: 0.7240\n",
      "Epoch 57/120\n",
      "7500/7500 [==============================] - 0s 45us/step - loss: 0.5842 - acc: 0.7925 - val_loss: 0.7182 - val_acc: 0.7290\n",
      "Epoch 58/120\n",
      "7500/7500 [==============================] - 0s 40us/step - loss: 0.5782 - acc: 0.7979 - val_loss: 0.7160 - val_acc: 0.7250\n",
      "Epoch 59/120\n",
      "7500/7500 [==============================] - 0s 45us/step - loss: 0.5724 - acc: 0.7976 - val_loss: 0.7116 - val_acc: 0.7310\n",
      "Epoch 60/120\n"
     ]
    },
    {
     "name": "stdout",
     "output_type": "stream",
     "text": [
      "7500/7500 [==============================] - 0s 58us/step - loss: 0.5664 - acc: 0.7995 - val_loss: 0.7111 - val_acc: 0.7300\n",
      "Epoch 61/120\n",
      "7500/7500 [==============================] - 0s 47us/step - loss: 0.5610 - acc: 0.8027 - val_loss: 0.7086 - val_acc: 0.7350\n",
      "Epoch 62/120\n",
      "7500/7500 [==============================] - 0s 56us/step - loss: 0.5553 - acc: 0.8037 - val_loss: 0.7042 - val_acc: 0.7310\n",
      "Epoch 63/120\n",
      "7500/7500 [==============================] - 0s 56us/step - loss: 0.5500 - acc: 0.8081 - val_loss: 0.7019 - val_acc: 0.7310\n",
      "Epoch 64/120\n",
      "7500/7500 [==============================] - 0s 49us/step - loss: 0.5447 - acc: 0.8081 - val_loss: 0.7003 - val_acc: 0.7280\n",
      "Epoch 65/120\n",
      "7500/7500 [==============================] - 0s 66us/step - loss: 0.5398 - acc: 0.8123 - val_loss: 0.7004 - val_acc: 0.7350\n",
      "Epoch 66/120\n",
      "7500/7500 [==============================] - 0s 50us/step - loss: 0.5349 - acc: 0.8148 - val_loss: 0.6955 - val_acc: 0.7390\n",
      "Epoch 67/120\n",
      "7500/7500 [==============================] - 0s 49us/step - loss: 0.5301 - acc: 0.8147 - val_loss: 0.6941 - val_acc: 0.7330\n",
      "Epoch 68/120\n",
      "7500/7500 [==============================] - 0s 50us/step - loss: 0.5251 - acc: 0.8196 - val_loss: 0.6906 - val_acc: 0.7390\n",
      "Epoch 69/120\n",
      "7500/7500 [==============================] - 0s 52us/step - loss: 0.5204 - acc: 0.8197 - val_loss: 0.6881 - val_acc: 0.7380\n",
      "Epoch 70/120\n",
      "7500/7500 [==============================] - 0s 50us/step - loss: 0.5159 - acc: 0.8196 - val_loss: 0.6866 - val_acc: 0.7380\n",
      "Epoch 71/120\n",
      "7500/7500 [==============================] - 0s 62us/step - loss: 0.5112 - acc: 0.8247 - val_loss: 0.6848 - val_acc: 0.7410\n",
      "Epoch 72/120\n",
      "7500/7500 [==============================] - 0s 52us/step - loss: 0.5067 - acc: 0.8252 - val_loss: 0.6855 - val_acc: 0.7400\n",
      "Epoch 73/120\n",
      "7500/7500 [==============================] - 0s 39us/step - loss: 0.5024 - acc: 0.8257 - val_loss: 0.6835 - val_acc: 0.7360\n",
      "Epoch 74/120\n",
      "7500/7500 [==============================] - 0s 35us/step - loss: 0.4979 - acc: 0.8272 - val_loss: 0.6890 - val_acc: 0.7360\n",
      "Epoch 75/120\n",
      "7500/7500 [==============================] - 0s 36us/step - loss: 0.4940 - acc: 0.8311 - val_loss: 0.6807 - val_acc: 0.7380\n",
      "Epoch 76/120\n",
      "7500/7500 [==============================] - 0s 36us/step - loss: 0.4897 - acc: 0.8309 - val_loss: 0.6783 - val_acc: 0.7380\n",
      "Epoch 77/120\n",
      "7500/7500 [==============================] - 0s 38us/step - loss: 0.4853 - acc: 0.8341 - val_loss: 0.6792 - val_acc: 0.7400\n",
      "Epoch 78/120\n",
      "7500/7500 [==============================] - 0s 53us/step - loss: 0.4818 - acc: 0.8347 - val_loss: 0.6784 - val_acc: 0.7410\n",
      "Epoch 79/120\n",
      "7500/7500 [==============================] - 0s 35us/step - loss: 0.4775 - acc: 0.8369 - val_loss: 0.6752 - val_acc: 0.7420\n",
      "Epoch 80/120\n",
      "7500/7500 [==============================] - 0s 37us/step - loss: 0.4737 - acc: 0.8368 - val_loss: 0.6751 - val_acc: 0.7410\n",
      "Epoch 81/120\n",
      "7500/7500 [==============================] - 0s 52us/step - loss: 0.4699 - acc: 0.8383 - val_loss: 0.6743 - val_acc: 0.7440\n",
      "Epoch 82/120\n",
      "7500/7500 [==============================] - 0s 36us/step - loss: 0.4659 - acc: 0.8393 - val_loss: 0.6714 - val_acc: 0.7430\n",
      "Epoch 83/120\n",
      "7500/7500 [==============================] - 0s 37us/step - loss: 0.4624 - acc: 0.8409 - val_loss: 0.6705 - val_acc: 0.7370\n",
      "Epoch 84/120\n",
      "7500/7500 [==============================] - 0s 46us/step - loss: 0.4583 - acc: 0.8424 - val_loss: 0.6718 - val_acc: 0.7400\n",
      "Epoch 85/120\n",
      "7500/7500 [==============================] - 0s 53us/step - loss: 0.4548 - acc: 0.8439 - val_loss: 0.6709 - val_acc: 0.7420\n",
      "Epoch 86/120\n",
      "7500/7500 [==============================] - 0s 36us/step - loss: 0.4516 - acc: 0.8460 - val_loss: 0.6726 - val_acc: 0.7360\n",
      "Epoch 87/120\n",
      "7500/7500 [==============================] - 0s 39us/step - loss: 0.4477 - acc: 0.8459 - val_loss: 0.6681 - val_acc: 0.7450\n",
      "Epoch 88/120\n",
      "7500/7500 [==============================] - 0s 56us/step - loss: 0.4442 - acc: 0.8499 - val_loss: 0.6667 - val_acc: 0.7430\n",
      "Epoch 89/120\n",
      "7500/7500 [==============================] - 0s 35us/step - loss: 0.4408 - acc: 0.8512 - val_loss: 0.6658 - val_acc: 0.7430\n",
      "Epoch 90/120\n",
      "7500/7500 [==============================] - 1s 67us/step - loss: 0.4372 - acc: 0.8520 - val_loss: 0.6644 - val_acc: 0.7440\n",
      "Epoch 91/120\n",
      "7500/7500 [==============================] - 0s 36us/step - loss: 0.4340 - acc: 0.8525 - val_loss: 0.6660 - val_acc: 0.7470\n",
      "Epoch 92/120\n",
      "7500/7500 [==============================] - 1s 101us/step - loss: 0.4308 - acc: 0.8531 - val_loss: 0.6633 - val_acc: 0.7480\n",
      "Epoch 93/120\n",
      "7500/7500 [==============================] - 1s 70us/step - loss: 0.4275 - acc: 0.8552 - val_loss: 0.6643 - val_acc: 0.7440\n",
      "Epoch 94/120\n",
      "7500/7500 [==============================] - 0s 42us/step - loss: 0.4242 - acc: 0.8559 - val_loss: 0.6645 - val_acc: 0.7430\n",
      "Epoch 95/120\n",
      "7500/7500 [==============================] - 0s 44us/step - loss: 0.4210 - acc: 0.8583 - val_loss: 0.6620 - val_acc: 0.7470\n",
      "Epoch 96/120\n",
      "7500/7500 [==============================] - 1s 82us/step - loss: 0.4176 - acc: 0.8600 - val_loss: 0.6616 - val_acc: 0.7490\n",
      "Epoch 97/120\n",
      "7500/7500 [==============================] - 0s 48us/step - loss: 0.4144 - acc: 0.8609 - val_loss: 0.6625 - val_acc: 0.7450\n",
      "Epoch 98/120\n",
      "7500/7500 [==============================] - 0s 37us/step - loss: 0.4112 - acc: 0.8608 - val_loss: 0.6625 - val_acc: 0.7380\n",
      "Epoch 99/120\n",
      "7500/7500 [==============================] - 0s 61us/step - loss: 0.4084 - acc: 0.8624 - val_loss: 0.6603 - val_acc: 0.7450\n",
      "Epoch 100/120\n",
      "7500/7500 [==============================] - 0s 49us/step - loss: 0.4052 - acc: 0.8643 - val_loss: 0.6623 - val_acc: 0.7380\n",
      "Epoch 101/120\n",
      "7500/7500 [==============================] - 0s 35us/step - loss: 0.4023 - acc: 0.8653 - val_loss: 0.6627 - val_acc: 0.7430\n",
      "Epoch 102/120\n",
      "7500/7500 [==============================] - 0s 40us/step - loss: 0.3994 - acc: 0.8651 - val_loss: 0.6619 - val_acc: 0.7420\n",
      "Epoch 103/120\n",
      "7500/7500 [==============================] - 0s 56us/step - loss: 0.3959 - acc: 0.8683 - val_loss: 0.6583 - val_acc: 0.7440\n",
      "Epoch 104/120\n",
      "7500/7500 [==============================] - 0s 54us/step - loss: 0.3932 - acc: 0.8669 - val_loss: 0.6606 - val_acc: 0.7520\n",
      "Epoch 105/120\n",
      "7500/7500 [==============================] - 1s 83us/step - loss: 0.3901 - acc: 0.8680 - val_loss: 0.6628 - val_acc: 0.7570\n",
      "Epoch 106/120\n",
      "7500/7500 [==============================] - 0s 66us/step - loss: 0.3874 - acc: 0.8703 - val_loss: 0.6581 - val_acc: 0.7440\n",
      "Epoch 107/120\n",
      "7500/7500 [==============================] - 1s 71us/step - loss: 0.3847 - acc: 0.8717 - val_loss: 0.6650 - val_acc: 0.7560\n",
      "Epoch 108/120\n",
      "7500/7500 [==============================] - 0s 53us/step - loss: 0.3819 - acc: 0.8721 - val_loss: 0.6603 - val_acc: 0.7480\n",
      "Epoch 109/120\n",
      "7500/7500 [==============================] - 0s 37us/step - loss: 0.3791 - acc: 0.8737 - val_loss: 0.6606 - val_acc: 0.7520\n",
      "Epoch 110/120\n",
      "7500/7500 [==============================] - 0s 51us/step - loss: 0.3763 - acc: 0.8755 - val_loss: 0.6586 - val_acc: 0.7510\n",
      "Epoch 111/120\n",
      "7500/7500 [==============================] - 0s 35us/step - loss: 0.3735 - acc: 0.8776 - val_loss: 0.6585 - val_acc: 0.7530\n",
      "Epoch 112/120\n",
      "7500/7500 [==============================] - 0s 45us/step - loss: 0.3710 - acc: 0.8772 - val_loss: 0.6560 - val_acc: 0.7480\n",
      "Epoch 113/120\n",
      "7500/7500 [==============================] - 0s 61us/step - loss: 0.3681 - acc: 0.8785 - val_loss: 0.6591 - val_acc: 0.7510\n",
      "Epoch 114/120\n",
      "7500/7500 [==============================] - 0s 36us/step - loss: 0.3656 - acc: 0.8805 - val_loss: 0.6590 - val_acc: 0.7490\n",
      "Epoch 115/120\n",
      "7500/7500 [==============================] - 0s 46us/step - loss: 0.3626 - acc: 0.8813 - val_loss: 0.6592 - val_acc: 0.7520\n",
      "Epoch 116/120\n",
      "7500/7500 [==============================] - 0s 37us/step - loss: 0.3600 - acc: 0.8825 - val_loss: 0.6599 - val_acc: 0.7530\n",
      "Epoch 117/120\n",
      "7500/7500 [==============================] - 0s 34us/step - loss: 0.3575 - acc: 0.8839 - val_loss: 0.6625 - val_acc: 0.7490\n",
      "Epoch 118/120\n",
      "7500/7500 [==============================] - 0s 35us/step - loss: 0.3555 - acc: 0.8837 - val_loss: 0.6577 - val_acc: 0.7570\n",
      "Epoch 119/120\n",
      "7500/7500 [==============================] - 0s 40us/step - loss: 0.3526 - acc: 0.8855 - val_loss: 0.6595 - val_acc: 0.7500\n"
     ]
    },
    {
     "name": "stdout",
     "output_type": "stream",
     "text": [
      "Epoch 120/120\n",
      "7500/7500 [==============================] - 0s 38us/step - loss: 0.3500 - acc: 0.8867 - val_loss: 0.6596 - val_acc: 0.7480\n"
     ]
    }
   ],
   "source": [
    "model_val = model.fit(train_final,\n",
    "                    label_train_final,\n",
    "                    epochs=120,\n",
    "                    batch_size=256,\n",
    "                    validation_data=(val, label_val))"
   ]
  },
  {
   "cell_type": "code",
   "execution_count": 57,
   "metadata": {},
   "outputs": [
    {
     "data": {
      "text/plain": [
       "(7500, 2000)"
      ]
     },
     "execution_count": 57,
     "metadata": {},
     "output_type": "execute_result"
    }
   ],
   "source": [
    "train_final.shape"
   ]
  },
  {
   "cell_type": "markdown",
   "metadata": {},
   "source": [
    "The dictionary `history` contains four entries this time: one per metric that was being monitored during training and during validation.\n",
    "\n",
    "In the cell below:\n",
    "\n",
    "* Store the model's `.history` inside of `model_val_dict`\n",
    "* Check what `keys()` this dictionary contains"
   ]
  },
  {
   "cell_type": "code",
   "execution_count": 62,
   "metadata": {},
   "outputs": [
    {
     "data": {
      "text/plain": [
       "dict_keys(['val_loss', 'val_acc', 'loss', 'acc'])"
      ]
     },
     "execution_count": 62,
     "metadata": {},
     "output_type": "execute_result"
    }
   ],
   "source": [
    "model_val_dict = model_val.history\n",
    "model_val_dict.keys()"
   ]
  },
  {
   "cell_type": "markdown",
   "metadata": {},
   "source": [
    "Now, let's get the final results on the training and testing sets using `model.evaluate()` on `train_final` and `label_train_final`."
   ]
  },
  {
   "cell_type": "code",
   "execution_count": 63,
   "metadata": {},
   "outputs": [
    {
     "name": "stdout",
     "output_type": "stream",
     "text": [
      "7500/7500 [==============================] - 0s 47us/step\n"
     ]
    }
   ],
   "source": [
    "results_train = model.evaluate(train_final, label_train_final)"
   ]
  },
  {
   "cell_type": "markdown",
   "metadata": {},
   "source": [
    "Let's also use this function to get the results on our testing set.  Call the function again, but this time on `test` and `label_test`. "
   ]
  },
  {
   "cell_type": "code",
   "execution_count": 68,
   "metadata": {},
   "outputs": [
    {
     "name": "stdout",
     "output_type": "stream",
     "text": [
      "1500/1500 [==============================] - 0s 38us/step\n"
     ]
    }
   ],
   "source": [
    "results_test = model.evaluate(test,label_test)"
   ]
  },
  {
   "cell_type": "markdown",
   "metadata": {},
   "source": [
    "Now, check the contents of each. "
   ]
  },
  {
   "cell_type": "code",
   "execution_count": 69,
   "metadata": {},
   "outputs": [
    {
     "data": {
      "text/plain": [
       "[0.3465494870344798, 0.8880000000317891]"
      ]
     },
     "execution_count": 69,
     "metadata": {},
     "output_type": "execute_result"
    }
   ],
   "source": [
    "results_train # Expected Results: [0.33576024494171142, 0.89600000000000002]"
   ]
  },
  {
   "cell_type": "code",
   "execution_count": 70,
   "metadata": {},
   "outputs": [
    {
     "data": {
      "text/plain": [
       "[0.62820525487264, 0.7660000004768371]"
      ]
     },
     "execution_count": 70,
     "metadata": {},
     "output_type": "execute_result"
    }
   ],
   "source": [
    "results_test # Expected Results: [0.72006658554077152, 0.74333333365122478]"
   ]
  },
  {
   "cell_type": "markdown",
   "metadata": {},
   "source": [
    "### Plotting the results"
   ]
  },
  {
   "cell_type": "markdown",
   "metadata": {},
   "source": [
    "Let's plot the results. Let's include the training and the validation loss in the same plot. We'll do the same thing for the training and validation accuracy.\n",
    "\n",
    "Run the cell below to visualize a plot of our training and validation loss."
   ]
  },
  {
   "cell_type": "code",
   "execution_count": 71,
   "metadata": {},
   "outputs": [
    {
     "data": {
      "image/png": "[encoded data removed]",
      "text/plain": [
       "<Figure size 432x288 with 1 Axes>"
      ]
     },
     "metadata": {},
     "output_type": "display_data"
    }
   ],
   "source": [
    "plt.clf()\n",
    "\n",
    "import matplotlib.pyplot as plt\n",
    "loss_values = model_val_dict['loss']\n",
    "val_loss_values = model_val_dict['val_loss']\n",
    "\n",
    "epochs = range(1, len(loss_values) + 1)\n",
    "plt.plot(epochs, loss_values, 'g', label='Training loss')\n",
    "plt.plot(epochs, val_loss_values, 'g.', label='Validation loss')\n",
    "\n",
    "plt.title('Training & validation loss')\n",
    "plt.xlabel('Epochs')\n",
    "plt.ylabel('Loss')\n",
    "plt.legend()\n",
    "plt.show()"
   ]
  },
  {
   "cell_type": "markdown",
   "metadata": {},
   "source": [
    "Interesting! \n",
    "\n",
    "Run the cell below to visualize a plot of our training and validation accuracy>"
   ]
  },
  {
   "cell_type": "code",
   "execution_count": 75,
   "metadata": {},
   "outputs": [
    {
     "data": {
      "image/png": "[encoded data removed]",
      "text/plain": [
       "<Figure size 432x288 with 1 Axes>"
      ]
     },
     "metadata": {},
     "output_type": "display_data"
    }
   ],
   "source": [
    "plt.clf()\n",
    "\n",
    "acc_values = model_val_dict['acc'] \n",
    "val_acc_values = model_val_dict['val_acc']\n",
    "\n",
    "plt.plot(epochs, acc_values, 'r', label='Training acc')\n",
    "plt.plot(epochs, val_acc_values, 'r.', label='Validation acc')\n",
    "plt.title('Training & validation accuracy')\n",
    "plt.xlabel('Epochs')\n",
    "plt.ylabel('Loss')\n",
    "plt.legend()\n",
    "plt.show()"
   ]
  },
  {
   "cell_type": "markdown",
   "metadata": {},
   "source": [
    "We observe an interesting pattern here: although the training accuracy keeps increasing when going through more epochs, and the training loss keeps decreasing, the validation accuracy and loss seem to be reaching a status quo around the 60th epoch. This means that we're actually **overfitting** to the train data when we do as many epochs as we were doing. Luckily, you learned how to tackle overfitting in the previous lecture! For starters, it does seem clear that we are training too long. So let's stop training at the 60th epoch first (so-called \"early stopping\") before we move to more advanced regularization techniques!"
   ]
  },
  {
   "cell_type": "markdown",
   "metadata": {},
   "source": [
    "## 3. Early stopping\n",
    "\n",
    "Now that we know that the model starts to overfit around epoch 60, we can just retrain the model from scratch, but this time only up to 60 epochs! This will help us with our overfitting problem.  This method is called **_Early Stopping_**.\n",
    "\n",
    "In the cell below: \n",
    "\n",
    "* Recreate the exact model we did above. \n",
    "* Compile the model with the exact same hyperparameters.\n",
    "* Fit the model with the exact same hyperparameters, with the exception of `epochs`.  This time, set epochs to `60` instead of `120`."
   ]
  },
  {
   "cell_type": "code",
   "execution_count": 76,
   "metadata": {},
   "outputs": [],
   "source": [
    "model = Sequential()\n",
    "\n",
    "model.add(Dense(50, activation='relu', input_shape=(2000,)))\n",
    "model.add(Dense(25, activation='relu'))\n",
    "model.add(Dense(7, activation='softmax'))"
   ]
  },
  {
   "cell_type": "code",
   "execution_count": 77,
   "metadata": {},
   "outputs": [],
   "source": [
    "model.compile(optimizer='SGD', loss='categorical_crossentropy', metrics=['accuracy'])"
   ]
  },
  {
   "cell_type": "code",
   "execution_count": 78,
   "metadata": {},
   "outputs": [
    {
     "name": "stdout",
     "output_type": "stream",
     "text": [
      "Train on 7500 samples, validate on 1000 samples\n",
      "Epoch 1/60\n",
      "7500/7500 [==============================] - 1s 89us/step - loss: 1.9554 - acc: 0.1497 - val_loss: 1.9391 - val_acc: 0.1540\n",
      "Epoch 2/60\n",
      "7500/7500 [==============================] - ETA: 0s - loss: 1.9364 - acc: 0.160 - 0s 49us/step - loss: 1.9343 - acc: 0.1625 - val_loss: 1.9258 - val_acc: 0.1810\n",
      "Epoch 3/60\n",
      "7500/7500 [==============================] - 0s 53us/step - loss: 1.9201 - acc: 0.1832 - val_loss: 1.9138 - val_acc: 0.2010\n",
      "Epoch 4/60\n",
      "7500/7500 [==============================] - 0s 52us/step - loss: 1.9067 - acc: 0.2037 - val_loss: 1.9010 - val_acc: 0.2230\n",
      "Epoch 5/60\n",
      "7500/7500 [==============================] - 0s 47us/step - loss: 1.8920 - acc: 0.2252 - val_loss: 1.8856 - val_acc: 0.2440\n",
      "Epoch 6/60\n",
      "7500/7500 [==============================] - 0s 53us/step - loss: 1.8749 - acc: 0.2468 - val_loss: 1.8671 - val_acc: 0.2730\n",
      "Epoch 7/60\n",
      "7500/7500 [==============================] - 0s 44us/step - loss: 1.8544 - acc: 0.2701 - val_loss: 1.8441 - val_acc: 0.2990\n",
      "Epoch 8/60\n",
      "7500/7500 [==============================] - 0s 49us/step - loss: 1.8293 - acc: 0.3015 - val_loss: 1.8162 - val_acc: 0.3420\n",
      "Epoch 9/60\n",
      "7500/7500 [==============================] - 0s 44us/step - loss: 1.7990 - acc: 0.3336 - val_loss: 1.7821 - val_acc: 0.3760\n",
      "Epoch 10/60\n",
      "7500/7500 [==============================] - 0s 51us/step - loss: 1.7624 - acc: 0.3644 - val_loss: 1.7424 - val_acc: 0.4120\n",
      "Epoch 11/60\n",
      "7500/7500 [==============================] - 0s 42us/step - loss: 1.7197 - acc: 0.3949 - val_loss: 1.6984 - val_acc: 0.4350\n",
      "Epoch 12/60\n",
      "7500/7500 [==============================] - 0s 46us/step - loss: 1.6715 - acc: 0.4177 - val_loss: 1.6494 - val_acc: 0.4520\n",
      "Epoch 13/60\n",
      "7500/7500 [==============================] - 0s 42us/step - loss: 1.6186 - acc: 0.4476 - val_loss: 1.5963 - val_acc: 0.4700\n",
      "Epoch 14/60\n",
      "7500/7500 [==============================] - 0s 46us/step - loss: 1.5632 - acc: 0.4748 - val_loss: 1.5432 - val_acc: 0.4920\n",
      "Epoch 15/60\n",
      "7500/7500 [==============================] - 0s 42us/step - loss: 1.5065 - acc: 0.4988 - val_loss: 1.4885 - val_acc: 0.5100\n",
      "Epoch 16/60\n",
      "7500/7500 [==============================] - 0s 43us/step - loss: 1.4495 - acc: 0.5211 - val_loss: 1.4336 - val_acc: 0.5270\n",
      "Epoch 17/60\n",
      "7500/7500 [==============================] - 0s 44us/step - loss: 1.3937 - acc: 0.5435 - val_loss: 1.3823 - val_acc: 0.5420\n",
      "Epoch 18/60\n",
      "7500/7500 [==============================] - 0s 42us/step - loss: 1.3399 - acc: 0.5611 - val_loss: 1.3321 - val_acc: 0.5600\n",
      "Epoch 19/60\n",
      "7500/7500 [==============================] - 0s 53us/step - loss: 1.2884 - acc: 0.5788 - val_loss: 1.2822 - val_acc: 0.5810\n",
      "Epoch 20/60\n",
      "7500/7500 [==============================] - 0s 43us/step - loss: 1.2399 - acc: 0.5961 - val_loss: 1.2369 - val_acc: 0.6030\n",
      "Epoch 21/60\n",
      "7500/7500 [==============================] - 0s 41us/step - loss: 1.1937 - acc: 0.6160 - val_loss: 1.1929 - val_acc: 0.6150\n",
      "Epoch 22/60\n",
      "7500/7500 [==============================] - 1s 68us/step - loss: 1.1509 - acc: 0.6328 - val_loss: 1.1593 - val_acc: 0.6280\n",
      "Epoch 23/60\n",
      "7500/7500 [==============================] - 0s 50us/step - loss: 1.1110 - acc: 0.6472 - val_loss: 1.1187 - val_acc: 0.6490\n",
      "Epoch 24/60\n",
      "7500/7500 [==============================] - 0s 55us/step - loss: 1.0736 - acc: 0.6615 - val_loss: 1.0846 - val_acc: 0.6620\n",
      "Epoch 25/60\n",
      "7500/7500 [==============================] - 0s 46us/step - loss: 1.0390 - acc: 0.6721 - val_loss: 1.0545 - val_acc: 0.6670\n",
      "Epoch 26/60\n",
      "7500/7500 [==============================] - 0s 41us/step - loss: 1.0068 - acc: 0.6832 - val_loss: 1.0252 - val_acc: 0.6710\n",
      "Epoch 27/60\n",
      "7500/7500 [==============================] - 0s 45us/step - loss: 0.9767 - acc: 0.6901 - val_loss: 0.9975 - val_acc: 0.6760\n",
      "Epoch 28/60\n",
      "7500/7500 [==============================] - 0s 48us/step - loss: 0.9490 - acc: 0.6973 - val_loss: 0.9727 - val_acc: 0.6830\n",
      "Epoch 29/60\n",
      "7500/7500 [==============================] - 0s 45us/step - loss: 0.9228 - acc: 0.7040 - val_loss: 0.9503 - val_acc: 0.6880\n",
      "Epoch 30/60\n",
      "7500/7500 [==============================] - 0s 46us/step - loss: 0.8989 - acc: 0.7107 - val_loss: 0.9301 - val_acc: 0.6870\n",
      "Epoch 31/60\n",
      "7500/7500 [==============================] - 0s 42us/step - loss: 0.8766 - acc: 0.7131 - val_loss: 0.9103 - val_acc: 0.6900\n",
      "Epoch 32/60\n",
      "7500/7500 [==============================] - 0s 40us/step - loss: 0.8553 - acc: 0.7197 - val_loss: 0.8936 - val_acc: 0.6900\n",
      "Epoch 33/60\n",
      "7500/7500 [==============================] - 0s 57us/step - loss: 0.8360 - acc: 0.7251 - val_loss: 0.8775 - val_acc: 0.6950\n",
      "Epoch 34/60\n",
      "7500/7500 [==============================] - 0s 47us/step - loss: 0.8174 - acc: 0.7288 - val_loss: 0.8589 - val_acc: 0.7100\n",
      "Epoch 35/60\n",
      "7500/7500 [==============================] - 0s 41us/step - loss: 0.7999 - acc: 0.7333 - val_loss: 0.8463 - val_acc: 0.7040\n",
      "Epoch 36/60\n",
      "7500/7500 [==============================] - 0s 44us/step - loss: 0.7838 - acc: 0.7357 - val_loss: 0.8331 - val_acc: 0.7080\n",
      "Epoch 37/60\n",
      "7500/7500 [==============================] - 0s 41us/step - loss: 0.7684 - acc: 0.7419 - val_loss: 0.8216 - val_acc: 0.7140\n",
      "Epoch 38/60\n",
      "7500/7500 [==============================] - 0s 53us/step - loss: 0.7545 - acc: 0.7424 - val_loss: 0.8110 - val_acc: 0.7150\n",
      "Epoch 39/60\n",
      "7500/7500 [==============================] - 0s 39us/step - loss: 0.7411 - acc: 0.7473 - val_loss: 0.8003 - val_acc: 0.7160\n",
      "Epoch 40/60\n",
      "7500/7500 [==============================] - 0s 49us/step - loss: 0.7280 - acc: 0.7525 - val_loss: 0.7919 - val_acc: 0.7210\n",
      "Epoch 41/60\n",
      "7500/7500 [==============================] - 0s 44us/step - loss: 0.7160 - acc: 0.7560 - val_loss: 0.7836 - val_acc: 0.7240\n",
      "Epoch 42/60\n",
      "7500/7500 [==============================] - 0s 44us/step - loss: 0.7049 - acc: 0.7579 - val_loss: 0.7771 - val_acc: 0.7220\n",
      "Epoch 43/60\n",
      "7500/7500 [==============================] - 0s 41us/step - loss: 0.6942 - acc: 0.7621 - val_loss: 0.7671 - val_acc: 0.7260\n",
      "Epoch 44/60\n",
      "7500/7500 [==============================] - 0s 42us/step - loss: 0.6840 - acc: 0.7668 - val_loss: 0.7612 - val_acc: 0.7270\n",
      "Epoch 45/60\n",
      "7500/7500 [==============================] - 0s 40us/step - loss: 0.6742 - acc: 0.7688 - val_loss: 0.7531 - val_acc: 0.7260\n",
      "Epoch 46/60\n",
      "7500/7500 [==============================] - 0s 46us/step - loss: 0.6648 - acc: 0.7735 - val_loss: 0.7467 - val_acc: 0.7290\n",
      "Epoch 47/60\n",
      "7500/7500 [==============================] - 0s 43us/step - loss: 0.6554 - acc: 0.7715 - val_loss: 0.7412 - val_acc: 0.7230\n",
      "Epoch 48/60\n",
      "7500/7500 [==============================] - 0s 44us/step - loss: 0.6470 - acc: 0.7765 - val_loss: 0.7405 - val_acc: 0.7300\n",
      "Epoch 49/60\n",
      "7500/7500 [==============================] - 0s 43us/step - loss: 0.6392 - acc: 0.7789 - val_loss: 0.7319 - val_acc: 0.7320\n",
      "Epoch 50/60\n",
      "7500/7500 [==============================] - 0s 39us/step - loss: 0.6312 - acc: 0.7819 - val_loss: 0.7289 - val_acc: 0.7310\n",
      "Epoch 51/60\n",
      "7500/7500 [==============================] - 0s 37us/step - loss: 0.6236 - acc: 0.7875 - val_loss: 0.7237 - val_acc: 0.7290\n",
      "Epoch 52/60\n",
      "7500/7500 [==============================] - 0s 42us/step - loss: 0.6165 - acc: 0.7856 - val_loss: 0.7183 - val_acc: 0.7320\n",
      "Epoch 53/60\n",
      "7500/7500 [==============================] - 0s 43us/step - loss: 0.6094 - acc: 0.7885 - val_loss: 0.7176 - val_acc: 0.7340\n",
      "Epoch 54/60\n",
      "7500/7500 [==============================] - 0s 47us/step - loss: 0.6026 - acc: 0.7899 - val_loss: 0.7106 - val_acc: 0.7390\n",
      "Epoch 55/60\n",
      "7500/7500 [==============================] - 0s 54us/step - loss: 0.5963 - acc: 0.7940 - val_loss: 0.7072 - val_acc: 0.7310\n",
      "Epoch 56/60\n",
      "7500/7500 [==============================] - 0s 52us/step - loss: 0.5896 - acc: 0.7956 - val_loss: 0.7082 - val_acc: 0.7350\n",
      "Epoch 57/60\n",
      "7500/7500 [==============================] - 0s 59us/step - loss: 0.5835 - acc: 0.7983 - val_loss: 0.7074 - val_acc: 0.7380\n",
      "Epoch 58/60\n",
      "7500/7500 [==============================] - 0s 51us/step - loss: 0.5776 - acc: 0.7999 - val_loss: 0.7007 - val_acc: 0.7370\n",
      "Epoch 59/60\n",
      "7500/7500 [==============================] - 0s 66us/step - loss: 0.5720 - acc: 0.8011 - val_loss: 0.6967 - val_acc: 0.7420\n",
      "Epoch 60/60\n"
     ]
    },
    {
     "name": "stdout",
     "output_type": "stream",
     "text": [
      "7500/7500 [==============================] - 0s 60us/step - loss: 0.5665 - acc: 0.8025 - val_loss: 0.6929 - val_acc: 0.7420\n"
     ]
    }
   ],
   "source": [
    "final_model = model.fit(train_final, label_train_final,\n",
    "                        epochs=60, batch_size=256,\n",
    "                        validation_data=(val, label_val))"
   ]
  },
  {
   "cell_type": "markdown",
   "metadata": {},
   "source": [
    "Now, as we did before, get our results using `model.evaluate()` on the appropriate variables. "
   ]
  },
  {
   "cell_type": "code",
   "execution_count": 83,
   "metadata": {},
   "outputs": [
    {
     "name": "stdout",
     "output_type": "stream",
     "text": [
      "7500/7500 [==============================] - 0s 44us/step\n"
     ]
    }
   ],
   "source": [
    "results_train = model.evaluate(train_final, label_train_final)"
   ]
  },
  {
   "cell_type": "code",
   "execution_count": 84,
   "metadata": {},
   "outputs": [
    {
     "name": "stdout",
     "output_type": "stream",
     "text": [
      "1500/1500 [==============================] - 0s 42us/step\n"
     ]
    }
   ],
   "source": [
    "results_test = model.evaluate(test, label_test)"
   ]
  },
  {
   "cell_type": "code",
   "execution_count": 85,
   "metadata": {},
   "outputs": [
    {
     "data": {
      "text/plain": [
       "[0.5614815036614736, 0.8058666666984559]"
      ]
     },
     "execution_count": 85,
     "metadata": {},
     "output_type": "execute_result"
    }
   ],
   "source": [
    "results_train  # Expected Output: [0.58606486314137773, 0.79826666669845581]"
   ]
  },
  {
   "cell_type": "code",
   "execution_count": 86,
   "metadata": {},
   "outputs": [
    {
     "data": {
      "text/plain": [
       "[0.6673455848693848, 0.7473333331743877]"
      ]
     },
     "execution_count": 86,
     "metadata": {},
     "output_type": "execute_result"
    }
   ],
   "source": [
    "results_test # [0.74768974288304646, 0.71333333365122475]"
   ]
  },
  {
   "cell_type": "markdown",
   "metadata": {},
   "source": [
    "We've significantly reduced the variance, so this is already pretty good! Our test set accuracy is slightly worse, but this model will definitely be more robust than the 120 epochs one we fitted before.\n",
    "\n",
    "Now, let's see what else we can do to improve the result!"
   ]
  },
  {
   "cell_type": "markdown",
   "metadata": {},
   "source": [
    "## 4. L2 regularization"
   ]
  },
  {
   "cell_type": "markdown",
   "metadata": {},
   "source": [
    "Let's include L2 regularization. You can easily do this in keras adding the argument `kernel_regulizers.l2` and adding a value for the regularization parameter lambda between parentheses.\n",
    "\n",
    "In the cell below: \n",
    "\n",
    "* Recreate the same model we did before.\n",
    "* In our two hidden layers (but not our output layer), add in the parameter `kernel_regularizer=regularizers.l2(0.005)` to add L2 regularization to each hidden layer.  \n",
    "* Compile the model with the same hyperparameters as we did before. \n",
    "* Fit the model with the same hyperparameters as we did before, but this time for `120` epochs.\n",
    "* Store the fitted model that the `.fit` call returns inside a variable called `L2_model`."
   ]
  },
  {
   "cell_type": "code",
   "execution_count": 89,
   "metadata": {},
   "outputs": [
    {
     "name": "stdout",
     "output_type": "stream",
     "text": [
      "Train on 7500 samples, validate on 1000 samples\n",
      "Epoch 1/120\n",
      "7500/7500 [==============================] - 1s 100us/step - loss: 2.5816 - acc: 0.1556 - val_loss: 2.5768 - val_acc: 0.1630\n",
      "Epoch 2/120\n",
      "7500/7500 [==============================] - 0s 63us/step - loss: 2.5545 - acc: 0.1824 - val_loss: 2.5552 - val_acc: 0.1900\n",
      "Epoch 3/120\n",
      "7500/7500 [==============================] - 0s 47us/step - loss: 2.5304 - acc: 0.2125 - val_loss: 2.5322 - val_acc: 0.2220\n",
      "Epoch 4/120\n",
      "7500/7500 [==============================] - 0s 41us/step - loss: 2.5045 - acc: 0.2431 - val_loss: 2.5069 - val_acc: 0.2530\n",
      "Epoch 5/120\n",
      "7500/7500 [==============================] - 0s 43us/step - loss: 2.4747 - acc: 0.2721 - val_loss: 2.4762 - val_acc: 0.2920\n",
      "Epoch 6/120\n",
      "7500/7500 [==============================] - 0s 45us/step - loss: 2.4401 - acc: 0.3021 - val_loss: 2.4402 - val_acc: 0.3180\n",
      "Epoch 7/120\n",
      "7500/7500 [==============================] - 0s 44us/step - loss: 2.4006 - acc: 0.3352 - val_loss: 2.3977 - val_acc: 0.3560\n",
      "Epoch 8/120\n",
      "7500/7500 [==============================] - 0s 47us/step - loss: 2.3571 - acc: 0.3707 - val_loss: 2.3518 - val_acc: 0.3920\n",
      "Epoch 9/120\n",
      "7500/7500 [==============================] - 0s 49us/step - loss: 2.3104 - acc: 0.4021 - val_loss: 2.3021 - val_acc: 0.4130\n",
      "Epoch 10/120\n",
      "7500/7500 [==============================] - 0s 65us/step - loss: 2.2619 - acc: 0.4300 - val_loss: 2.2512 - val_acc: 0.4350\n",
      "Epoch 11/120\n",
      "7500/7500 [==============================] - 0s 41us/step - loss: 2.2129 - acc: 0.4577 - val_loss: 2.2022 - val_acc: 0.4580\n",
      "Epoch 12/120\n",
      "7500/7500 [==============================] - 0s 35us/step - loss: 2.1637 - acc: 0.4820 - val_loss: 2.1521 - val_acc: 0.4930\n",
      "Epoch 13/120\n",
      "7500/7500 [==============================] - 0s 35us/step - loss: 2.1148 - acc: 0.5041 - val_loss: 2.1036 - val_acc: 0.5080\n",
      "Epoch 14/120\n",
      "7500/7500 [==============================] - 0s 36us/step - loss: 2.0671 - acc: 0.5248 - val_loss: 2.0569 - val_acc: 0.5430\n",
      "Epoch 15/120\n",
      "7500/7500 [==============================] - 0s 36us/step - loss: 2.0202 - acc: 0.5493 - val_loss: 2.0100 - val_acc: 0.5490\n",
      "Epoch 16/120\n",
      "7500/7500 [==============================] - 0s 35us/step - loss: 1.9745 - acc: 0.5676 - val_loss: 1.9667 - val_acc: 0.5670\n",
      "Epoch 17/120\n",
      "7500/7500 [==============================] - 0s 36us/step - loss: 1.9299 - acc: 0.5849 - val_loss: 1.9228 - val_acc: 0.5840\n",
      "Epoch 18/120\n",
      "7500/7500 [==============================] - 0s 36us/step - loss: 1.8869 - acc: 0.6023 - val_loss: 1.8819 - val_acc: 0.6110\n",
      "Epoch 19/120\n",
      "7500/7500 [==============================] - 0s 35us/step - loss: 1.8452 - acc: 0.6193 - val_loss: 1.8418 - val_acc: 0.6220\n",
      "Epoch 20/120\n",
      "7500/7500 [==============================] - 0s 36us/step - loss: 1.8055 - acc: 0.6344 - val_loss: 1.8063 - val_acc: 0.6320\n",
      "Epoch 21/120\n",
      "7500/7500 [==============================] - 0s 36us/step - loss: 1.7671 - acc: 0.6449 - val_loss: 1.7699 - val_acc: 0.6370\n",
      "Epoch 22/120\n",
      "7500/7500 [==============================] - 0s 35us/step - loss: 1.7305 - acc: 0.6580 - val_loss: 1.7373 - val_acc: 0.6470\n",
      "Epoch 23/120\n",
      "7500/7500 [==============================] - 0s 36us/step - loss: 1.6956 - acc: 0.6685 - val_loss: 1.7036 - val_acc: 0.6550\n",
      "Epoch 24/120\n",
      "7500/7500 [==============================] - 0s 36us/step - loss: 1.6625 - acc: 0.6759 - val_loss: 1.6737 - val_acc: 0.6660\n",
      "Epoch 25/120\n",
      "7500/7500 [==============================] - 0s 44us/step - loss: 1.6315 - acc: 0.6825 - val_loss: 1.6440 - val_acc: 0.6710\n",
      "Epoch 26/120\n",
      "7500/7500 [==============================] - 0s 37us/step - loss: 1.6014 - acc: 0.6908 - val_loss: 1.6165 - val_acc: 0.6780\n",
      "Epoch 27/120\n",
      "7500/7500 [==============================] - 0s 35us/step - loss: 1.5731 - acc: 0.6983 - val_loss: 1.5937 - val_acc: 0.6810\n",
      "Epoch 28/120\n",
      "7500/7500 [==============================] - 0s 36us/step - loss: 1.5463 - acc: 0.7039 - val_loss: 1.5698 - val_acc: 0.6860\n",
      "Epoch 29/120\n",
      "7500/7500 [==============================] - 0s 37us/step - loss: 1.5214 - acc: 0.7105 - val_loss: 1.5459 - val_acc: 0.6890\n",
      "Epoch 30/120\n",
      "7500/7500 [==============================] - 0s 35us/step - loss: 1.4979 - acc: 0.7143 - val_loss: 1.5273 - val_acc: 0.6920\n",
      "Epoch 31/120\n",
      "7500/7500 [==============================] - 0s 35us/step - loss: 1.4754 - acc: 0.7212 - val_loss: 1.5096 - val_acc: 0.6990\n",
      "Epoch 32/120\n",
      "7500/7500 [==============================] - 0s 36us/step - loss: 1.4542 - acc: 0.7257 - val_loss: 1.4918 - val_acc: 0.6930\n",
      "Epoch 33/120\n",
      "7500/7500 [==============================] - 0s 35us/step - loss: 1.4342 - acc: 0.7319 - val_loss: 1.4732 - val_acc: 0.7000\n",
      "Epoch 34/120\n",
      "7500/7500 [==============================] - 0s 35us/step - loss: 1.4150 - acc: 0.7357 - val_loss: 1.4575 - val_acc: 0.7050\n",
      "Epoch 35/120\n",
      "7500/7500 [==============================] - 0s 36us/step - loss: 1.3975 - acc: 0.7421 - val_loss: 1.4406 - val_acc: 0.7110\n",
      "Epoch 36/120\n",
      "7500/7500 [==============================] - 0s 36us/step - loss: 1.3803 - acc: 0.7461 - val_loss: 1.4328 - val_acc: 0.7000\n",
      "Epoch 37/120\n",
      "7500/7500 [==============================] - 0s 35us/step - loss: 1.3648 - acc: 0.7489 - val_loss: 1.4147 - val_acc: 0.7090\n",
      "Epoch 38/120\n",
      "7500/7500 [==============================] - 0s 35us/step - loss: 1.3489 - acc: 0.7523 - val_loss: 1.4032 - val_acc: 0.7150\n",
      "Epoch 39/120\n",
      "7500/7500 [==============================] - 0s 36us/step - loss: 1.3346 - acc: 0.7564 - val_loss: 1.3916 - val_acc: 0.7150\n",
      "Epoch 40/120\n",
      "7500/7500 [==============================] - 0s 42us/step - loss: 1.3210 - acc: 0.7585 - val_loss: 1.3807 - val_acc: 0.7210\n",
      "Epoch 41/120\n",
      "7500/7500 [==============================] - 0s 39us/step - loss: 1.3078 - acc: 0.7599 - val_loss: 1.3699 - val_acc: 0.7140\n",
      "Epoch 42/120\n",
      "7500/7500 [==============================] - 0s 60us/step - loss: 1.2950 - acc: 0.7627 - val_loss: 1.3608 - val_acc: 0.7230\n",
      "Epoch 43/120\n",
      "7500/7500 [==============================] - 0s 48us/step - loss: 1.2827 - acc: 0.7659 - val_loss: 1.3512 - val_acc: 0.7280\n",
      "Epoch 44/120\n",
      "7500/7500 [==============================] - 0s 47us/step - loss: 1.2713 - acc: 0.7689 - val_loss: 1.3411 - val_acc: 0.7230\n",
      "Epoch 45/120\n",
      "7500/7500 [==============================] - 0s 55us/step - loss: 1.2603 - acc: 0.7697 - val_loss: 1.3345 - val_acc: 0.7170\n",
      "Epoch 46/120\n",
      "7500/7500 [==============================] - 0s 49us/step - loss: 1.2490 - acc: 0.7736 - val_loss: 1.3287 - val_acc: 0.7260\n",
      "Epoch 47/120\n",
      "7500/7500 [==============================] - 0s 43us/step - loss: 1.2389 - acc: 0.7756 - val_loss: 1.3225 - val_acc: 0.7300\n",
      "Epoch 48/120\n",
      "7500/7500 [==============================] - 0s 48us/step - loss: 1.2292 - acc: 0.7785 - val_loss: 1.3115 - val_acc: 0.7240\n",
      "Epoch 49/120\n",
      "7500/7500 [==============================] - 0s 44us/step - loss: 1.2195 - acc: 0.7795 - val_loss: 1.3035 - val_acc: 0.7290\n",
      "Epoch 50/120\n",
      "7500/7500 [==============================] - 0s 43us/step - loss: 1.2101 - acc: 0.7813 - val_loss: 1.2984 - val_acc: 0.7310\n",
      "Epoch 51/120\n",
      "7500/7500 [==============================] - 0s 52us/step - loss: 1.2013 - acc: 0.7825 - val_loss: 1.2895 - val_acc: 0.7350\n",
      "Epoch 52/120\n",
      "7500/7500 [==============================] - 0s 45us/step - loss: 1.1925 - acc: 0.7853 - val_loss: 1.2844 - val_acc: 0.7380\n",
      "Epoch 53/120\n",
      "7500/7500 [==============================] - 0s 41us/step - loss: 1.1838 - acc: 0.7869 - val_loss: 1.2773 - val_acc: 0.7300\n",
      "Epoch 54/120\n",
      "7500/7500 [==============================] - 0s 50us/step - loss: 1.1753 - acc: 0.7916 - val_loss: 1.2735 - val_acc: 0.7390\n",
      "Epoch 55/120\n",
      "7500/7500 [==============================] - 0s 45us/step - loss: 1.1676 - acc: 0.7933 - val_loss: 1.2670 - val_acc: 0.7440\n",
      "Epoch 56/120\n",
      "7500/7500 [==============================] - 0s 50us/step - loss: 1.1596 - acc: 0.7951 - val_loss: 1.2621 - val_acc: 0.7360\n",
      "Epoch 57/120\n",
      "7500/7500 [==============================] - 0s 51us/step - loss: 1.1523 - acc: 0.7957 - val_loss: 1.2566 - val_acc: 0.7400\n",
      "Epoch 58/120\n",
      "7500/7500 [==============================] - 0s 46us/step - loss: 1.1447 - acc: 0.7967 - val_loss: 1.2520 - val_acc: 0.7370\n",
      "Epoch 59/120\n",
      "7500/7500 [==============================] - 0s 45us/step - loss: 1.1374 - acc: 0.7981 - val_loss: 1.2474 - val_acc: 0.7380\n",
      "Epoch 60/120\n"
     ]
    },
    {
     "name": "stdout",
     "output_type": "stream",
     "text": [
      "7500/7500 [==============================] - 0s 44us/step - loss: 1.1304 - acc: 0.8007 - val_loss: 1.2441 - val_acc: 0.7440\n",
      "Epoch 61/120\n",
      "7500/7500 [==============================] - 0s 58us/step - loss: 1.1232 - acc: 0.8039 - val_loss: 1.2392 - val_acc: 0.7470\n",
      "Epoch 62/120\n",
      "7500/7500 [==============================] - 0s 59us/step - loss: 1.1163 - acc: 0.8033 - val_loss: 1.2344 - val_acc: 0.7430\n",
      "Epoch 63/120\n",
      "7500/7500 [==============================] - 0s 44us/step - loss: 1.1097 - acc: 0.8043 - val_loss: 1.2304 - val_acc: 0.7400\n",
      "Epoch 64/120\n",
      "7500/7500 [==============================] - ETA: 0s - loss: 1.1023 - acc: 0.807 - 1s 91us/step - loss: 1.1032 - acc: 0.8076 - val_loss: 1.2300 - val_acc: 0.7450\n",
      "Epoch 65/120\n",
      "7500/7500 [==============================] - 1s 85us/step - loss: 1.0971 - acc: 0.8083 - val_loss: 1.2204 - val_acc: 0.7440\n",
      "Epoch 66/120\n",
      "7500/7500 [==============================] - 0s 46us/step - loss: 1.0903 - acc: 0.8101 - val_loss: 1.2191 - val_acc: 0.7510\n",
      "Epoch 67/120\n",
      "7500/7500 [==============================] - 0s 62us/step - loss: 1.0843 - acc: 0.8132 - val_loss: 1.2138 - val_acc: 0.7460\n",
      "Epoch 68/120\n",
      "7500/7500 [==============================] - 0s 50us/step - loss: 1.0779 - acc: 0.8149 - val_loss: 1.2106 - val_acc: 0.7430\n",
      "Epoch 69/120\n",
      "7500/7500 [==============================] - 0s 44us/step - loss: 1.0722 - acc: 0.8143 - val_loss: 1.2079 - val_acc: 0.7480\n",
      "Epoch 70/120\n",
      "7500/7500 [==============================] - 0s 45us/step - loss: 1.0661 - acc: 0.8181 - val_loss: 1.2019 - val_acc: 0.7480\n",
      "Epoch 71/120\n",
      "7500/7500 [==============================] - 0s 49us/step - loss: 1.0602 - acc: 0.8184 - val_loss: 1.1997 - val_acc: 0.7450\n",
      "Epoch 72/120\n",
      "7500/7500 [==============================] - 0s 49us/step - loss: 1.0551 - acc: 0.8195 - val_loss: 1.1952 - val_acc: 0.7490\n",
      "Epoch 73/120\n",
      "7500/7500 [==============================] - 0s 53us/step - loss: 1.0490 - acc: 0.8224 - val_loss: 1.1910 - val_acc: 0.7520\n",
      "Epoch 74/120\n",
      "7500/7500 [==============================] - 0s 50us/step - loss: 1.0433 - acc: 0.8229 - val_loss: 1.1875 - val_acc: 0.7490\n",
      "Epoch 75/120\n",
      "7500/7500 [==============================] - 0s 47us/step - loss: 1.0380 - acc: 0.8271 - val_loss: 1.1868 - val_acc: 0.7520\n",
      "Epoch 76/120\n",
      "7500/7500 [==============================] - 0s 50us/step - loss: 1.0328 - acc: 0.8267 - val_loss: 1.1827 - val_acc: 0.7490\n",
      "Epoch 77/120\n",
      "7500/7500 [==============================] - 0s 48us/step - loss: 1.0273 - acc: 0.8295 - val_loss: 1.1791 - val_acc: 0.7560\n",
      "Epoch 78/120\n",
      "7500/7500 [==============================] - 0s 51us/step - loss: 1.0222 - acc: 0.8299 - val_loss: 1.1755 - val_acc: 0.7580\n",
      "Epoch 79/120\n",
      "7500/7500 [==============================] - 0s 48us/step - loss: 1.0169 - acc: 0.8295 - val_loss: 1.1708 - val_acc: 0.7490\n",
      "Epoch 80/120\n",
      "7500/7500 [==============================] - 0s 49us/step - loss: 1.0119 - acc: 0.8340 - val_loss: 1.1713 - val_acc: 0.7560\n",
      "Epoch 81/120\n",
      "7500/7500 [==============================] - 0s 50us/step - loss: 1.0066 - acc: 0.8343 - val_loss: 1.1669 - val_acc: 0.7530\n",
      "Epoch 82/120\n",
      "7500/7500 [==============================] - 0s 50us/step - loss: 1.0017 - acc: 0.8351 - val_loss: 1.1634 - val_acc: 0.7510\n",
      "Epoch 83/120\n",
      "7500/7500 [==============================] - 0s 50us/step - loss: 0.9966 - acc: 0.8369 - val_loss: 1.1610 - val_acc: 0.7590\n",
      "Epoch 84/120\n",
      "7500/7500 [==============================] - 0s 47us/step - loss: 0.9922 - acc: 0.8367 - val_loss: 1.1588 - val_acc: 0.7520\n",
      "Epoch 85/120\n",
      "7500/7500 [==============================] - 0s 47us/step - loss: 0.9868 - acc: 0.8396 - val_loss: 1.1557 - val_acc: 0.7570\n",
      "Epoch 86/120\n",
      "7500/7500 [==============================] - 0s 44us/step - loss: 0.9825 - acc: 0.8396 - val_loss: 1.1519 - val_acc: 0.7540\n",
      "Epoch 87/120\n",
      "7500/7500 [==============================] - 0s 42us/step - loss: 0.9780 - acc: 0.8423 - val_loss: 1.1498 - val_acc: 0.7560\n",
      "Epoch 88/120\n",
      "7500/7500 [==============================] - 0s 47us/step - loss: 0.9734 - acc: 0.8416 - val_loss: 1.1464 - val_acc: 0.7600\n",
      "Epoch 89/120\n",
      "7500/7500 [==============================] - 0s 46us/step - loss: 0.9690 - acc: 0.8419 - val_loss: 1.1433 - val_acc: 0.7580\n",
      "Epoch 90/120\n",
      "7500/7500 [==============================] - 0s 47us/step - loss: 0.9641 - acc: 0.8452 - val_loss: 1.1428 - val_acc: 0.7580\n",
      "Epoch 91/120\n",
      "7500/7500 [==============================] - 0s 50us/step - loss: 0.9598 - acc: 0.8457 - val_loss: 1.1397 - val_acc: 0.7620\n",
      "Epoch 92/120\n",
      "7500/7500 [==============================] - 0s 44us/step - loss: 0.9554 - acc: 0.8472 - val_loss: 1.1380 - val_acc: 0.7630\n",
      "Epoch 93/120\n",
      "7500/7500 [==============================] - 0s 47us/step - loss: 0.9507 - acc: 0.8496 - val_loss: 1.1335 - val_acc: 0.7560\n",
      "Epoch 94/120\n",
      "7500/7500 [==============================] - 0s 49us/step - loss: 0.9465 - acc: 0.8529 - val_loss: 1.1343 - val_acc: 0.7630\n",
      "Epoch 95/120\n",
      "7500/7500 [==============================] - 0s 48us/step - loss: 0.9424 - acc: 0.8511 - val_loss: 1.1286 - val_acc: 0.7530\n",
      "Epoch 96/120\n",
      "7500/7500 [==============================] - 0s 49us/step - loss: 0.9382 - acc: 0.8520 - val_loss: 1.1260 - val_acc: 0.7580\n",
      "Epoch 97/120\n",
      "7500/7500 [==============================] - 0s 49us/step - loss: 0.9337 - acc: 0.8531 - val_loss: 1.1237 - val_acc: 0.7560\n",
      "Epoch 98/120\n",
      "7500/7500 [==============================] - 0s 55us/step - loss: 0.9296 - acc: 0.8545 - val_loss: 1.1240 - val_acc: 0.7600\n",
      "Epoch 99/120\n",
      "7500/7500 [==============================] - 0s 47us/step - loss: 0.9254 - acc: 0.8556 - val_loss: 1.1192 - val_acc: 0.7510\n",
      "Epoch 100/120\n",
      "7500/7500 [==============================] - 0s 44us/step - loss: 0.9212 - acc: 0.8547 - val_loss: 1.1188 - val_acc: 0.7560\n",
      "Epoch 101/120\n",
      "7500/7500 [==============================] - 0s 47us/step - loss: 0.9174 - acc: 0.8579 - val_loss: 1.1184 - val_acc: 0.7580\n",
      "Epoch 102/120\n",
      "7500/7500 [==============================] - 0s 47us/step - loss: 0.9133 - acc: 0.8579 - val_loss: 1.1126 - val_acc: 0.7590\n",
      "Epoch 103/120\n",
      "7500/7500 [==============================] - 0s 47us/step - loss: 0.9093 - acc: 0.8597 - val_loss: 1.1141 - val_acc: 0.7610\n",
      "Epoch 104/120\n",
      "7500/7500 [==============================] - 0s 44us/step - loss: 0.9053 - acc: 0.8607 - val_loss: 1.1077 - val_acc: 0.7550\n",
      "Epoch 105/120\n",
      "7500/7500 [==============================] - 0s 45us/step - loss: 0.9014 - acc: 0.8612 - val_loss: 1.1068 - val_acc: 0.7590\n",
      "Epoch 106/120\n",
      "7500/7500 [==============================] - 0s 44us/step - loss: 0.8975 - acc: 0.8632 - val_loss: 1.1042 - val_acc: 0.7590\n",
      "Epoch 107/120\n",
      "7500/7500 [==============================] - 0s 62us/step - loss: 0.8935 - acc: 0.8652 - val_loss: 1.1037 - val_acc: 0.7590\n",
      "Epoch 108/120\n",
      "7500/7500 [==============================] - 0s 53us/step - loss: 0.8901 - acc: 0.8657 - val_loss: 1.1008 - val_acc: 0.7560\n",
      "Epoch 109/120\n",
      "7500/7500 [==============================] - 0s 45us/step - loss: 0.8865 - acc: 0.8652 - val_loss: 1.0983 - val_acc: 0.7580\n",
      "Epoch 110/120\n",
      "7500/7500 [==============================] - 0s 43us/step - loss: 0.8825 - acc: 0.8685 - val_loss: 1.1020 - val_acc: 0.7590\n",
      "Epoch 111/120\n",
      "7500/7500 [==============================] - 0s 46us/step - loss: 0.8790 - acc: 0.8705 - val_loss: 1.0953 - val_acc: 0.7610\n",
      "Epoch 112/120\n",
      "7500/7500 [==============================] - 0s 47us/step - loss: 0.8748 - acc: 0.8675 - val_loss: 1.0948 - val_acc: 0.7600\n",
      "Epoch 113/120\n",
      "7500/7500 [==============================] - 0s 45us/step - loss: 0.8714 - acc: 0.8712 - val_loss: 1.0941 - val_acc: 0.7650\n",
      "Epoch 114/120\n",
      "7500/7500 [==============================] - 0s 46us/step - loss: 0.8682 - acc: 0.8709 - val_loss: 1.0962 - val_acc: 0.7560\n",
      "Epoch 115/120\n",
      "7500/7500 [==============================] - 0s 43us/step - loss: 0.8645 - acc: 0.8733 - val_loss: 1.0864 - val_acc: 0.7620\n",
      "Epoch 116/120\n",
      "7500/7500 [==============================] - 0s 44us/step - loss: 0.8608 - acc: 0.8737 - val_loss: 1.0888 - val_acc: 0.7650\n",
      "Epoch 117/120\n",
      "7500/7500 [==============================] - 0s 42us/step - loss: 0.8575 - acc: 0.8732 - val_loss: 1.0867 - val_acc: 0.7650\n",
      "Epoch 118/120\n",
      "7500/7500 [==============================] - 0s 43us/step - loss: 0.8535 - acc: 0.8755 - val_loss: 1.0832 - val_acc: 0.7630\n",
      "Epoch 119/120\n"
     ]
    },
    {
     "name": "stdout",
     "output_type": "stream",
     "text": [
      "7500/7500 [==============================] - 0s 47us/step - loss: 0.8501 - acc: 0.8757 - val_loss: 1.0810 - val_acc: 0.7600\n",
      "Epoch 120/120\n",
      "7500/7500 [==============================] - 0s 46us/step - loss: 0.8468 - acc: 0.8771 - val_loss: 1.0779 - val_acc: 0.7610\n"
     ]
    }
   ],
   "source": [
    "from keras import regularizers\n",
    "\n",
    "model = Sequential()\n",
    "\n",
    "model.add(Dense(50, activation='relu', input_shape=(2000,),\n",
    "                kernel_regularizer=regularizers.l2(0.005)))\n",
    "model.add(Dense(25, activation='relu',\n",
    "               kernel_regularizer=regularizers.l2(0.005)))\n",
    "model.add(Dense(7, activation='softmax'))\n",
    "\n",
    "model.compile(optimizer='SGD', loss='categorical_crossentropy', metrics=['accuracy'])\n",
    "\n",
    "L2_model = model.fit(train_final, label_train_final, epochs=120,\n",
    "                     batch_size=256, validation_data=(val, label_val))\n"
   ]
  },
  {
   "cell_type": "markdown",
   "metadata": {},
   "source": [
    "Now, let's see how regularization has affected our model results.  \n",
    "\n",
    "Run the cell below to get the model's `.history`."
   ]
  },
  {
   "cell_type": "code",
   "execution_count": 90,
   "metadata": {},
   "outputs": [
    {
     "data": {
      "text/plain": [
       "dict_keys(['val_loss', 'val_acc', 'loss', 'acc'])"
      ]
     },
     "execution_count": 90,
     "metadata": {},
     "output_type": "execute_result"
    }
   ],
   "source": [
    "L2_model_dict = L2_model.history\n",
    "L2_model_dict.keys()"
   ]
  },
  {
   "cell_type": "markdown",
   "metadata": {},
   "source": [
    "Let's look at the training accuracy as well as the validation accuracy for both the L2 and the model without regularization (for 120 epochs).\n",
    "\n",
    "Run the cell below to visualize our training and validation accuracy both with and without L2 regularization, so that we can compare them directly."
   ]
  },
  {
   "cell_type": "code",
   "execution_count": 91,
   "metadata": {},
   "outputs": [
    {
     "data": {
      "image/png": "[encoded data removed]",
      "text/plain": [
       "<Figure size 432x288 with 1 Axes>"
      ]
     },
     "metadata": {},
     "output_type": "display_data"
    }
   ],
   "source": [
    "plt.clf()\n",
    "\n",
    "acc_values = L2_model_dict['acc'] \n",
    "val_acc_values = L2_model_dict['val_acc']\n",
    "model_acc = model_val_dict['acc']\n",
    "model_val_acc = model_val_dict['val_acc']\n",
    "\n",
    "epochs = range(1, len(acc_values) + 1)\n",
    "plt.plot(epochs, acc_values, 'g', label='Training acc L2')\n",
    "plt.plot(epochs, val_acc_values, 'g', label='Validation acc L2')\n",
    "plt.plot(epochs, model_acc, 'r', label='Training acc')\n",
    "plt.plot(epochs, model_val_acc, 'r', label='Validation acc')\n",
    "plt.title('Training & validation accuracy L2 vs regular')\n",
    "plt.xlabel('Epochs')\n",
    "plt.ylabel('Loss')\n",
    "plt.legend()\n",
    "plt.show()"
   ]
  },
  {
   "cell_type": "markdown",
   "metadata": {},
   "source": [
    "The results of L2 regularization are quite disappointing here. We notice the discrepancy between validation and training accuracy seems to have decreased slightly, but the end result is definitely not getting better. "
   ]
  },
  {
   "cell_type": "markdown",
   "metadata": {},
   "source": [
    "## 5.  L1 regularization"
   ]
  },
  {
   "cell_type": "markdown",
   "metadata": {},
   "source": [
    "Let's have a look at L1 regularization. Will this work better?\n",
    "\n",
    "In the cell below: \n",
    "\n",
    "* Recreate the same model we did above, but this time, set the `kernel_regularizer` to `regularizers.l1(0.005)` inside both hidden layers. \n",
    "* Compile and fit the model exactly as we did for our L2 Regularization experiment (`120` epochs) \n",
    "* Store the fitted model that the `.fit` call returns inside a variable called `L1_model`."
   ]
  },
  {
   "cell_type": "code",
   "execution_count": 92,
   "metadata": {},
   "outputs": [
    {
     "name": "stdout",
     "output_type": "stream",
     "text": [
      "Train on 7500 samples, validate on 1000 samples\n",
      "Epoch 1/120\n",
      "7500/7500 [==============================] - 1s 109us/step - loss: 15.9602 - acc: 0.1765 - val_loss: 15.5583 - val_acc: 0.2020\n",
      "Epoch 2/120\n",
      "7500/7500 [==============================] - 1s 75us/step - loss: 15.1930 - acc: 0.2145 - val_loss: 14.8133 - val_acc: 0.2140\n",
      "Epoch 3/120\n",
      "7500/7500 [==============================] - 0s 48us/step - loss: 14.4536 - acc: 0.2483 - val_loss: 14.0892 - val_acc: 0.2340\n",
      "Epoch 4/120\n",
      "7500/7500 [==============================] - 0s 61us/step - loss: 13.7361 - acc: 0.2720 - val_loss: 13.3853 - val_acc: 0.2500\n",
      "Epoch 5/120\n",
      "7500/7500 [==============================] - 0s 51us/step - loss: 13.0393 - acc: 0.2964 - val_loss: 12.7008 - val_acc: 0.2840\n",
      "Epoch 6/120\n",
      "7500/7500 [==============================] - 1s 67us/step - loss: 12.3619 - acc: 0.3263 - val_loss: 12.0349 - val_acc: 0.3090\n",
      "Epoch 7/120\n",
      "7500/7500 [==============================] - 1s 71us/step - loss: 11.7035 - acc: 0.3544 - val_loss: 11.3866 - val_acc: 0.3520\n",
      "Epoch 8/120\n",
      "7500/7500 [==============================] - 1s 79us/step - loss: 11.0646 - acc: 0.3903 - val_loss: 10.7581 - val_acc: 0.3780\n",
      "Epoch 9/120\n",
      "7500/7500 [==============================] - 0s 45us/step - loss: 10.4453 - acc: 0.4211 - val_loss: 10.1521 - val_acc: 0.4040\n",
      "Epoch 10/120\n",
      "7500/7500 [==============================] - 0s 50us/step - loss: 9.8470 - acc: 0.4447 - val_loss: 9.5650 - val_acc: 0.4360\n",
      "Epoch 11/120\n",
      "7500/7500 [==============================] - 0s 43us/step - loss: 9.2695 - acc: 0.4684 - val_loss: 8.9981 - val_acc: 0.4670\n",
      "Epoch 12/120\n",
      "7500/7500 [==============================] - 0s 41us/step - loss: 8.7111 - acc: 0.5027 - val_loss: 8.4498 - val_acc: 0.4990\n",
      "Epoch 13/120\n",
      "7500/7500 [==============================] - 0s 54us/step - loss: 8.1716 - acc: 0.5259 - val_loss: 7.9232 - val_acc: 0.5370\n",
      "Epoch 14/120\n",
      "7500/7500 [==============================] - 0s 36us/step - loss: 7.6547 - acc: 0.5572 - val_loss: 7.4218 - val_acc: 0.5340\n",
      "Epoch 15/120\n",
      "7500/7500 [==============================] - 0s 52us/step - loss: 7.1614 - acc: 0.5697 - val_loss: 6.9388 - val_acc: 0.5650\n",
      "Epoch 16/120\n",
      "7500/7500 [==============================] - 0s 39us/step - loss: 6.6918 - acc: 0.5897 - val_loss: 6.4802 - val_acc: 0.5820\n",
      "Epoch 17/120\n",
      "7500/7500 [==============================] - 0s 39us/step - loss: 6.2457 - acc: 0.6080 - val_loss: 6.0493 - val_acc: 0.6140\n",
      "Epoch 18/120\n",
      "7500/7500 [==============================] - 0s 40us/step - loss: 5.8235 - acc: 0.6224 - val_loss: 5.6366 - val_acc: 0.6190\n",
      "Epoch 19/120\n",
      "7500/7500 [==============================] - 0s 38us/step - loss: 5.4246 - acc: 0.6321 - val_loss: 5.2507 - val_acc: 0.6220\n",
      "Epoch 20/120\n",
      "7500/7500 [==============================] - 0s 36us/step - loss: 5.0487 - acc: 0.6401 - val_loss: 4.8864 - val_acc: 0.6440\n",
      "Epoch 21/120\n",
      "7500/7500 [==============================] - 0s 36us/step - loss: 4.6971 - acc: 0.6492 - val_loss: 4.5482 - val_acc: 0.6490\n",
      "Epoch 22/120\n",
      "7500/7500 [==============================] - 0s 37us/step - loss: 4.3685 - acc: 0.6543 - val_loss: 4.2301 - val_acc: 0.6590\n",
      "Epoch 23/120\n",
      "7500/7500 [==============================] - 0s 37us/step - loss: 4.0629 - acc: 0.6603 - val_loss: 3.9395 - val_acc: 0.6490\n",
      "Epoch 24/120\n",
      "7500/7500 [==============================] - 0s 36us/step - loss: 3.7804 - acc: 0.6621 - val_loss: 3.6653 - val_acc: 0.6720\n",
      "Epoch 25/120\n",
      "7500/7500 [==============================] - 0s 56us/step - loss: 3.5198 - acc: 0.6695 - val_loss: 3.4162 - val_acc: 0.6610\n",
      "Epoch 26/120\n",
      "7500/7500 [==============================] - 0s 46us/step - loss: 3.2818 - acc: 0.6687 - val_loss: 3.1871 - val_acc: 0.6750\n",
      "Epoch 27/120\n",
      "7500/7500 [==============================] - 0s 46us/step - loss: 3.0659 - acc: 0.6707 - val_loss: 2.9839 - val_acc: 0.6690\n",
      "Epoch 28/120\n",
      "7500/7500 [==============================] - 0s 46us/step - loss: 2.8712 - acc: 0.6701 - val_loss: 2.7986 - val_acc: 0.6790\n",
      "Epoch 29/120\n",
      "7500/7500 [==============================] - 0s 56us/step - loss: 2.6978 - acc: 0.6707 - val_loss: 2.6335 - val_acc: 0.6870\n",
      "Epoch 30/120\n",
      "7500/7500 [==============================] - 0s 49us/step - loss: 2.5456 - acc: 0.6697 - val_loss: 2.4920 - val_acc: 0.6880\n",
      "Epoch 31/120\n",
      "7500/7500 [==============================] - 0s 47us/step - loss: 2.4137 - acc: 0.6717 - val_loss: 2.3679 - val_acc: 0.6910\n",
      "Epoch 32/120\n",
      "7500/7500 [==============================] - 0s 46us/step - loss: 2.3019 - acc: 0.6704 - val_loss: 2.2649 - val_acc: 0.6940\n",
      "Epoch 33/120\n",
      "7500/7500 [==============================] - 0s 44us/step - loss: 2.2091 - acc: 0.6733 - val_loss: 2.1828 - val_acc: 0.6850\n",
      "Epoch 34/120\n",
      "7500/7500 [==============================] - 0s 46us/step - loss: 2.1346 - acc: 0.6707 - val_loss: 2.1196 - val_acc: 0.6920\n",
      "Epoch 35/120\n",
      "7500/7500 [==============================] - 0s 45us/step - loss: 2.0772 - acc: 0.6701 - val_loss: 2.0658 - val_acc: 0.6800\n",
      "Epoch 36/120\n",
      "7500/7500 [==============================] - 0s 49us/step - loss: 2.0347 - acc: 0.6701 - val_loss: 2.0286 - val_acc: 0.6840\n",
      "Epoch 37/120\n",
      "7500/7500 [==============================] - 0s 46us/step - loss: 2.0033 - acc: 0.6687 - val_loss: 2.0006 - val_acc: 0.6920\n",
      "Epoch 38/120\n",
      "7500/7500 [==============================] - 0s 44us/step - loss: 1.9785 - acc: 0.6720 - val_loss: 1.9752 - val_acc: 0.6900\n",
      "Epoch 39/120\n",
      "7500/7500 [==============================] - 0s 49us/step - loss: 1.9573 - acc: 0.6743 - val_loss: 1.9602 - val_acc: 0.6770\n",
      "Epoch 40/120\n",
      "7500/7500 [==============================] - 0s 47us/step - loss: 1.9378 - acc: 0.6715 - val_loss: 1.9371 - val_acc: 0.6820\n",
      "Epoch 41/120\n",
      "7500/7500 [==============================] - 0s 46us/step - loss: 1.9198 - acc: 0.6748 - val_loss: 1.9196 - val_acc: 0.6890\n",
      "Epoch 42/120\n",
      "7500/7500 [==============================] - 0s 45us/step - loss: 1.9031 - acc: 0.6760 - val_loss: 1.9061 - val_acc: 0.6850\n",
      "Epoch 43/120\n",
      "7500/7500 [==============================] - 0s 63us/step - loss: 1.8874 - acc: 0.6759 - val_loss: 1.8861 - val_acc: 0.6910\n",
      "Epoch 44/120\n",
      "7500/7500 [==============================] - 0s 52us/step - loss: 1.8726 - acc: 0.6771 - val_loss: 1.8715 - val_acc: 0.6870\n",
      "Epoch 45/120\n",
      "7500/7500 [==============================] - 0s 41us/step - loss: 1.8578 - acc: 0.6775 - val_loss: 1.8555 - val_acc: 0.6960\n",
      "Epoch 46/120\n",
      "7500/7500 [==============================] - 0s 59us/step - loss: 1.8439 - acc: 0.6780 - val_loss: 1.8408 - val_acc: 0.6890\n",
      "Epoch 47/120\n",
      "7500/7500 [==============================] - 0s 49us/step - loss: 1.8303 - acc: 0.6781 - val_loss: 1.8328 - val_acc: 0.6980\n",
      "Epoch 48/120\n",
      "7500/7500 [==============================] - 0s 61us/step - loss: 1.8175 - acc: 0.6813 - val_loss: 1.8174 - val_acc: 0.6990\n",
      "Epoch 49/120\n",
      "7500/7500 [==============================] - 0s 63us/step - loss: 1.8049 - acc: 0.6809 - val_loss: 1.8030 - val_acc: 0.6970\n",
      "Epoch 50/120\n",
      "7500/7500 [==============================] - 0s 54us/step - loss: 1.7928 - acc: 0.6851 - val_loss: 1.7912 - val_acc: 0.6990\n",
      "Epoch 51/120\n",
      "7500/7500 [==============================] - 0s 43us/step - loss: 1.7814 - acc: 0.6837 - val_loss: 1.7786 - val_acc: 0.6930\n",
      "Epoch 52/120\n",
      "7500/7500 [==============================] - 0s 38us/step - loss: 1.7689 - acc: 0.6855 - val_loss: 1.7683 - val_acc: 0.6980\n",
      "Epoch 53/120\n",
      "7500/7500 [==============================] - 0s 42us/step - loss: 1.7581 - acc: 0.6856 - val_loss: 1.7573 - val_acc: 0.6950\n",
      "Epoch 54/120\n",
      "7500/7500 [==============================] - 0s 44us/step - loss: 1.7473 - acc: 0.6856 - val_loss: 1.7453 - val_acc: 0.6990\n",
      "Epoch 55/120\n",
      "7500/7500 [==============================] - 0s 48us/step - loss: 1.7359 - acc: 0.6869 - val_loss: 1.7349 - val_acc: 0.6940\n",
      "Epoch 56/120\n",
      "7500/7500 [==============================] - 0s 62us/step - loss: 1.7252 - acc: 0.6872 - val_loss: 1.7269 - val_acc: 0.7040\n",
      "Epoch 57/120\n",
      "7500/7500 [==============================] - 0s 46us/step - loss: 1.7152 - acc: 0.6871 - val_loss: 1.7123 - val_acc: 0.6950\n",
      "Epoch 58/120\n",
      "7500/7500 [==============================] - 0s 52us/step - loss: 1.7050 - acc: 0.6883 - val_loss: 1.7032 - val_acc: 0.6950\n",
      "Epoch 59/120\n",
      "7500/7500 [==============================] - 0s 49us/step - loss: 1.6954 - acc: 0.6897 - val_loss: 1.6924 - val_acc: 0.7070\n",
      "Epoch 60/120\n"
     ]
    },
    {
     "name": "stdout",
     "output_type": "stream",
     "text": [
      "7500/7500 [==============================] - 0s 56us/step - loss: 1.6851 - acc: 0.6917 - val_loss: 1.6867 - val_acc: 0.6990\n",
      "Epoch 61/120\n",
      "7500/7500 [==============================] - 0s 48us/step - loss: 1.6758 - acc: 0.6909 - val_loss: 1.6728 - val_acc: 0.7000\n",
      "Epoch 62/120\n",
      "7500/7500 [==============================] - 0s 56us/step - loss: 1.6661 - acc: 0.6912 - val_loss: 1.6700 - val_acc: 0.6970\n",
      "Epoch 63/120\n",
      "7500/7500 [==============================] - 0s 64us/step - loss: 1.6566 - acc: 0.6936 - val_loss: 1.6578 - val_acc: 0.6940\n",
      "Epoch 64/120\n",
      "7500/7500 [==============================] - 0s 59us/step - loss: 1.6479 - acc: 0.6939 - val_loss: 1.6503 - val_acc: 0.6920\n",
      "Epoch 65/120\n",
      "7500/7500 [==============================] - 0s 56us/step - loss: 1.6387 - acc: 0.6944 - val_loss: 1.6397 - val_acc: 0.7020\n",
      "Epoch 66/120\n",
      "7500/7500 [==============================] - 0s 63us/step - loss: 1.6299 - acc: 0.6948 - val_loss: 1.6282 - val_acc: 0.7070\n",
      "Epoch 67/120\n",
      "7500/7500 [==============================] - 0s 61us/step - loss: 1.6214 - acc: 0.6951 - val_loss: 1.6204 - val_acc: 0.7010\n",
      "Epoch 68/120\n",
      "7500/7500 [==============================] - 0s 48us/step - loss: 1.6124 - acc: 0.6961 - val_loss: 1.6129 - val_acc: 0.7060\n",
      "Epoch 69/120\n",
      "7500/7500 [==============================] - 0s 46us/step - loss: 1.6045 - acc: 0.6976 - val_loss: 1.6018 - val_acc: 0.7000\n",
      "Epoch 70/120\n",
      "7500/7500 [==============================] - ETA: 0s - loss: 1.5969 - acc: 0.698 - 0s 59us/step - loss: 1.5965 - acc: 0.6977 - val_loss: 1.5934 - val_acc: 0.7030\n",
      "Epoch 71/120\n",
      "7500/7500 [==============================] - 0s 53us/step - loss: 1.5884 - acc: 0.6977 - val_loss: 1.5875 - val_acc: 0.7040\n",
      "Epoch 72/120\n",
      "7500/7500 [==============================] - 0s 55us/step - loss: 1.5805 - acc: 0.6993 - val_loss: 1.5787 - val_acc: 0.7050\n",
      "Epoch 73/120\n",
      "7500/7500 [==============================] - 0s 52us/step - loss: 1.5726 - acc: 0.6993 - val_loss: 1.5723 - val_acc: 0.7000\n",
      "Epoch 74/120\n",
      "7500/7500 [==============================] - 0s 46us/step - loss: 1.5648 - acc: 0.7007 - val_loss: 1.5635 - val_acc: 0.7120\n",
      "Epoch 75/120\n",
      "7500/7500 [==============================] - 0s 47us/step - loss: 1.5571 - acc: 0.7003 - val_loss: 1.5563 - val_acc: 0.7070\n",
      "Epoch 76/120\n",
      "7500/7500 [==============================] - 0s 61us/step - loss: 1.5494 - acc: 0.7001 - val_loss: 1.5478 - val_acc: 0.7060\n",
      "Epoch 77/120\n",
      "7500/7500 [==============================] - 0s 49us/step - loss: 1.5422 - acc: 0.7000 - val_loss: 1.5431 - val_acc: 0.7080\n",
      "Epoch 78/120\n",
      "7500/7500 [==============================] - 0s 49us/step - loss: 1.5349 - acc: 0.7001 - val_loss: 1.5342 - val_acc: 0.7110\n",
      "Epoch 79/120\n",
      "7500/7500 [==============================] - 0s 50us/step - loss: 1.5274 - acc: 0.7012 - val_loss: 1.5264 - val_acc: 0.7030\n",
      "Epoch 80/120\n",
      "7500/7500 [==============================] - 0s 51us/step - loss: 1.5207 - acc: 0.7025 - val_loss: 1.5177 - val_acc: 0.7110\n",
      "Epoch 81/120\n",
      "7500/7500 [==============================] - 0s 57us/step - loss: 1.5139 - acc: 0.7039 - val_loss: 1.5128 - val_acc: 0.7100\n",
      "Epoch 82/120\n",
      "7500/7500 [==============================] - 0s 46us/step - loss: 1.5072 - acc: 0.7027 - val_loss: 1.5127 - val_acc: 0.7140\n",
      "Epoch 83/120\n",
      "7500/7500 [==============================] - 0s 52us/step - loss: 1.5005 - acc: 0.7039 - val_loss: 1.4986 - val_acc: 0.7100\n",
      "Epoch 84/120\n",
      "7500/7500 [==============================] - 0s 54us/step - loss: 1.4936 - acc: 0.7049 - val_loss: 1.4998 - val_acc: 0.7020\n",
      "Epoch 85/120\n",
      "7500/7500 [==============================] - 0s 52us/step - loss: 1.4872 - acc: 0.7043 - val_loss: 1.4880 - val_acc: 0.7050\n",
      "Epoch 86/120\n",
      "7500/7500 [==============================] - 0s 48us/step - loss: 1.4803 - acc: 0.7059 - val_loss: 1.4811 - val_acc: 0.7080\n",
      "Epoch 87/120\n",
      "7500/7500 [==============================] - 1s 82us/step - loss: 1.4743 - acc: 0.7055 - val_loss: 1.4751 - val_acc: 0.7070\n",
      "Epoch 88/120\n",
      "7500/7500 [==============================] - 0s 52us/step - loss: 1.4679 - acc: 0.7053 - val_loss: 1.4696 - val_acc: 0.7070\n",
      "Epoch 89/120\n",
      "7500/7500 [==============================] - 0s 38us/step - loss: 1.4618 - acc: 0.7055 - val_loss: 1.4634 - val_acc: 0.7110\n",
      "Epoch 90/120\n",
      "7500/7500 [==============================] - 0s 38us/step - loss: 1.4551 - acc: 0.7064 - val_loss: 1.4562 - val_acc: 0.7060\n",
      "Epoch 91/120\n",
      "7500/7500 [==============================] - 0s 43us/step - loss: 1.4491 - acc: 0.7067 - val_loss: 1.4485 - val_acc: 0.7130\n",
      "Epoch 92/120\n",
      "7500/7500 [==============================] - 0s 40us/step - loss: 1.4431 - acc: 0.7072 - val_loss: 1.4481 - val_acc: 0.7070\n",
      "Epoch 93/120\n",
      "7500/7500 [==============================] - 0s 60us/step - loss: 1.4375 - acc: 0.7076 - val_loss: 1.4374 - val_acc: 0.7130\n",
      "Epoch 94/120\n",
      "7500/7500 [==============================] - 0s 56us/step - loss: 1.4315 - acc: 0.7084 - val_loss: 1.4332 - val_acc: 0.7150\n",
      "Epoch 95/120\n",
      "7500/7500 [==============================] - 0s 43us/step - loss: 1.4251 - acc: 0.7095 - val_loss: 1.4304 - val_acc: 0.7130\n",
      "Epoch 96/120\n",
      "7500/7500 [==============================] - 0s 44us/step - loss: 1.4193 - acc: 0.7088 - val_loss: 1.4256 - val_acc: 0.7110\n",
      "Epoch 97/120\n",
      "7500/7500 [==============================] - 0s 46us/step - loss: 1.4141 - acc: 0.7093 - val_loss: 1.4180 - val_acc: 0.7110\n",
      "Epoch 98/120\n",
      "7500/7500 [==============================] - 0s 42us/step - loss: 1.4082 - acc: 0.7077 - val_loss: 1.4167 - val_acc: 0.7160\n",
      "Epoch 99/120\n",
      "7500/7500 [==============================] - 0s 42us/step - loss: 1.4032 - acc: 0.7105 - val_loss: 1.4048 - val_acc: 0.7150\n",
      "Epoch 100/120\n",
      "7500/7500 [==============================] - 0s 45us/step - loss: 1.3971 - acc: 0.7104 - val_loss: 1.4014 - val_acc: 0.7130\n",
      "Epoch 101/120\n",
      "7500/7500 [==============================] - 0s 49us/step - loss: 1.3918 - acc: 0.7120 - val_loss: 1.4002 - val_acc: 0.7050\n",
      "Epoch 102/120\n",
      "7500/7500 [==============================] - 0s 41us/step - loss: 1.3870 - acc: 0.7120 - val_loss: 1.3906 - val_acc: 0.7190\n",
      "Epoch 103/120\n",
      "7500/7500 [==============================] - 0s 39us/step - loss: 1.3811 - acc: 0.7109 - val_loss: 1.3870 - val_acc: 0.7110\n",
      "Epoch 104/120\n",
      "7500/7500 [==============================] - 0s 49us/step - loss: 1.3757 - acc: 0.7133 - val_loss: 1.3839 - val_acc: 0.7140\n",
      "Epoch 105/120\n",
      "7500/7500 [==============================] - 0s 46us/step - loss: 1.3707 - acc: 0.7123 - val_loss: 1.3735 - val_acc: 0.7210\n",
      "Epoch 106/120\n",
      "7500/7500 [==============================] - 0s 42us/step - loss: 1.3657 - acc: 0.7132 - val_loss: 1.3697 - val_acc: 0.7170\n",
      "Epoch 107/120\n",
      "7500/7500 [==============================] - 0s 48us/step - loss: 1.3604 - acc: 0.7125 - val_loss: 1.3673 - val_acc: 0.7150\n",
      "Epoch 108/120\n",
      "7500/7500 [==============================] - 0s 46us/step - loss: 1.3551 - acc: 0.7143 - val_loss: 1.3573 - val_acc: 0.7200\n",
      "Epoch 109/120\n",
      "7500/7500 [==============================] - 0s 43us/step - loss: 1.3499 - acc: 0.7159 - val_loss: 1.3534 - val_acc: 0.7230\n",
      "Epoch 110/120\n",
      "7500/7500 [==============================] - 0s 42us/step - loss: 1.3458 - acc: 0.7148 - val_loss: 1.3493 - val_acc: 0.7180\n",
      "Epoch 111/120\n",
      "7500/7500 [==============================] - 0s 48us/step - loss: 1.3407 - acc: 0.7155 - val_loss: 1.3453 - val_acc: 0.7200\n",
      "Epoch 112/120\n",
      "7500/7500 [==============================] - 0s 39us/step - loss: 1.3357 - acc: 0.7163 - val_loss: 1.3397 - val_acc: 0.7210\n",
      "Epoch 113/120\n",
      "7500/7500 [==============================] - 0s 42us/step - loss: 1.3306 - acc: 0.7172 - val_loss: 1.3378 - val_acc: 0.7150\n",
      "Epoch 114/120\n",
      "7500/7500 [==============================] - 0s 40us/step - loss: 1.3259 - acc: 0.7169 - val_loss: 1.3347 - val_acc: 0.7180\n",
      "Epoch 115/120\n",
      "7500/7500 [==============================] - 1s 69us/step - loss: 1.3219 - acc: 0.7163 - val_loss: 1.3238 - val_acc: 0.7230\n",
      "Epoch 116/120\n",
      "7500/7500 [==============================] - 0s 51us/step - loss: 1.3167 - acc: 0.7181 - val_loss: 1.3212 - val_acc: 0.7250\n",
      "Epoch 117/120\n",
      "7500/7500 [==============================] - 0s 56us/step - loss: 1.3126 - acc: 0.7183 - val_loss: 1.3173 - val_acc: 0.7160\n",
      "Epoch 118/120\n",
      "7500/7500 [==============================] - 0s 36us/step - loss: 1.3082 - acc: 0.7187 - val_loss: 1.3148 - val_acc: 0.7220\n",
      "Epoch 119/120\n"
     ]
    },
    {
     "name": "stdout",
     "output_type": "stream",
     "text": [
      "7500/7500 [==============================] - 0s 54us/step - loss: 1.3037 - acc: 0.7203 - val_loss: 1.3091 - val_acc: 0.7230\n",
      "Epoch 120/120\n",
      "7500/7500 [==============================] - 0s 38us/step - loss: 1.2991 - acc: 0.7171 - val_loss: 1.3088 - val_acc: 0.7130\n"
     ]
    }
   ],
   "source": [
    "model = Sequential()\n",
    "\n",
    "model.add(Dense(50, activation='relu', input_shape=(2000,),\n",
    "                kernel_regularizer=regularizers.l1(0.005)))\n",
    "model.add(Dense(25, activation='relu',\n",
    "               kernel_regularizer=regularizers.l1(0.005)))\n",
    "model.add(Dense(7, activation='softmax'))\n",
    "\n",
    "model.compile(optimizer='SGD', loss='categorical_crossentropy', metrics=['accuracy'])\n",
    "\n",
    "L1_model = model.fit(train_final, label_train_final, epochs=120,\n",
    "                     batch_size=256, validation_data=(val, label_val))\n"
   ]
  },
  {
   "cell_type": "markdown",
   "metadata": {},
   "source": [
    "Now, run the cell below to get and visualize the model's `.history`."
   ]
  },
  {
   "cell_type": "code",
   "execution_count": 93,
   "metadata": {},
   "outputs": [
    {
     "data": {
      "image/png": "[encoded data removed]",
      "text/plain": [
       "<Figure size 432x288 with 1 Axes>"
      ]
     },
     "metadata": {},
     "output_type": "display_data"
    }
   ],
   "source": [
    "L1_model_dict = L1_model.history\n",
    "plt.clf()\n",
    "\n",
    "acc_values = L1_model_dict['acc'] \n",
    "val_acc_values = L1_model_dict['val_acc']\n",
    "\n",
    "epochs = range(1, len(acc_values) + 1)\n",
    "plt.plot(epochs, acc_values, 'g', label='Training acc L1')\n",
    "plt.plot(epochs, val_acc_values, 'g.', label='Validation acc L1')\n",
    "plt.title('Training & validation accuracy with L1 regularization')\n",
    "plt.xlabel('Epochs')\n",
    "plt.ylabel('Loss')\n",
    "plt.legend()\n",
    "plt.show()"
   ]
  },
  {
   "cell_type": "markdown",
   "metadata": {},
   "source": [
    "Notice how The training and validation accuracy don't diverge as much as before! Unfortunately, the validation accuracy doesn't reach rates much higher than 70%. It does seem like we can still improve the model by training much longer.\n",
    "\n",
    "To complete our comparison, let's use `model.evaluate()` again on the appropriate variables to compare results. "
   ]
  },
  {
   "cell_type": "code",
   "execution_count": 94,
   "metadata": {},
   "outputs": [
    {
     "name": "stdout",
     "output_type": "stream",
     "text": [
      "7500/7500 [==============================] - 0s 48us/step\n",
      "1500/1500 [==============================] - 0s 60us/step\n"
     ]
    }
   ],
   "source": [
    "results_train = model.evaluate(train_final, label_train_final)\n",
    "\n",
    "results_test = model.evaluate(test, label_test)"
   ]
  },
  {
   "cell_type": "code",
   "execution_count": 95,
   "metadata": {},
   "outputs": [
    {
     "data": {
      "text/plain": [
       "[1.3000778328577678, 0.7221333333651225]"
      ]
     },
     "execution_count": 95,
     "metadata": {},
     "output_type": "execute_result"
    }
   ],
   "source": [
    "results_train # Expected Output: [1.3186310468037923, 0.72266666663487755]"
   ]
  },
  {
   "cell_type": "code",
   "execution_count": 96,
   "metadata": {},
   "outputs": [
    {
     "data": {
      "text/plain": [
       "[1.2993328768412271, 0.7313333328564962]"
      ]
     },
     "execution_count": 96,
     "metadata": {},
     "output_type": "execute_result"
    }
   ],
   "source": [
    "results_test # Expected Output: [1.3541648308436076, 0.70800000031789145]"
   ]
  },
  {
   "cell_type": "markdown",
   "metadata": {},
   "source": [
    "This is about the best we've seen so far, but we were training for quite a while! Let's see if dropout regularization can do even better and/or be more efficient!"
   ]
  },
  {
   "cell_type": "markdown",
   "metadata": {},
   "source": [
    "## 6. Dropout Regularization\n",
    "\n",
    "Dropout Regularization is accomplished by adding in an additional `Dropout` layer wherever we want to use it, and providing a percentage value for how likely any given neuron is to get \"dropped out\" during this layer. \n",
    "\n",
    "In the cell below:\n",
    "\n",
    "* Import `Dropout` from `keras.layers`\n",
    "* Recreate the same network we have above, but this time without any L1 or L2 regularization\n",
    "* Add a `Dropout` layer between hidden layer 1 and hidden layer 2.  This should have a dropout chance of `0.3`.\n",
    "* Add a `Dropout` layer between hidden layer 2 and the output layer.  This should have a dropout chance of `0.3`.\n",
    "* Compile the model with the exact same hyperparameters as all other models we've built. \n",
    "* Fit the model with the same hyperparameters we've used above.  But this time, train the model for `200` epochs. "
   ]
  },
  {
   "cell_type": "code",
   "execution_count": 102,
   "metadata": {
    "scrolled": true
   },
   "outputs": [
    {
     "name": "stdout",
     "output_type": "stream",
     "text": [
      "Train on 7500 samples, validate on 1000 samples\n",
      "Epoch 1/200\n",
      "7500/7500 [==============================] - 1s 180us/step - loss: 1.9509 - acc: 0.1571 - val_loss: 1.9309 - val_acc: 0.1880\n",
      "Epoch 2/200\n",
      "7500/7500 [==============================] - 0s 45us/step - loss: 1.9319 - acc: 0.1789 - val_loss: 1.9194 - val_acc: 0.2080\n",
      "Epoch 3/200\n",
      "7500/7500 [==============================] - 0s 47us/step - loss: 1.9206 - acc: 0.1867 - val_loss: 1.9092 - val_acc: 0.2100\n",
      "Epoch 4/200\n",
      "7500/7500 [==============================] - 0s 45us/step - loss: 1.9102 - acc: 0.1953 - val_loss: 1.8971 - val_acc: 0.2250\n",
      "Epoch 5/200\n",
      "7500/7500 [==============================] - 0s 49us/step - loss: 1.8985 - acc: 0.2069 - val_loss: 1.8843 - val_acc: 0.2330\n",
      "Epoch 6/200\n",
      "7500/7500 [==============================] - 0s 57us/step - loss: 1.8851 - acc: 0.2133 - val_loss: 1.8683 - val_acc: 0.2390\n",
      "Epoch 7/200\n",
      "7500/7500 [==============================] - 0s 46us/step - loss: 1.8664 - acc: 0.2257 - val_loss: 1.8498 - val_acc: 0.2370\n",
      "Epoch 8/200\n",
      "7500/7500 [==============================] - 0s 50us/step - loss: 1.8525 - acc: 0.2253 - val_loss: 1.8299 - val_acc: 0.2460\n",
      "Epoch 9/200\n",
      "7500/7500 [==============================] - 0s 43us/step - loss: 1.8311 - acc: 0.2548 - val_loss: 1.8065 - val_acc: 0.2560\n",
      "Epoch 10/200\n",
      "7500/7500 [==============================] - 0s 55us/step - loss: 1.8127 - acc: 0.2611 - val_loss: 1.7835 - val_acc: 0.2700\n",
      "Epoch 11/200\n",
      "7500/7500 [==============================] - 0s 53us/step - loss: 1.7936 - acc: 0.2703 - val_loss: 1.7583 - val_acc: 0.3030\n",
      "Epoch 12/200\n",
      "7500/7500 [==============================] - 0s 44us/step - loss: 1.7683 - acc: 0.2913 - val_loss: 1.7304 - val_acc: 0.3310\n",
      "Epoch 13/200\n",
      "7500/7500 [==============================] - 0s 42us/step - loss: 1.7438 - acc: 0.3061 - val_loss: 1.6997 - val_acc: 0.3630\n",
      "Epoch 14/200\n",
      "7500/7500 [==============================] - 0s 45us/step - loss: 1.7200 - acc: 0.3143 - val_loss: 1.6680 - val_acc: 0.3720\n",
      "Epoch 15/200\n",
      "7500/7500 [==============================] - 0s 48us/step - loss: 1.6908 - acc: 0.3303 - val_loss: 1.6355 - val_acc: 0.4120\n",
      "Epoch 16/200\n",
      "7500/7500 [==============================] - 0s 44us/step - loss: 1.6669 - acc: 0.3465 - val_loss: 1.6036 - val_acc: 0.4480\n",
      "Epoch 17/200\n",
      "7500/7500 [==============================] - 0s 46us/step - loss: 1.6344 - acc: 0.3653 - val_loss: 1.5694 - val_acc: 0.4810\n",
      "Epoch 18/200\n",
      "7500/7500 [==============================] - 0s 51us/step - loss: 1.6062 - acc: 0.3897 - val_loss: 1.5340 - val_acc: 0.4890\n",
      "Epoch 19/200\n",
      "7500/7500 [==============================] - 0s 49us/step - loss: 1.5787 - acc: 0.4008 - val_loss: 1.5002 - val_acc: 0.5150\n",
      "Epoch 20/200\n",
      "7500/7500 [==============================] - 0s 49us/step - loss: 1.5591 - acc: 0.4148 - val_loss: 1.4658 - val_acc: 0.5340\n",
      "Epoch 21/200\n",
      "7500/7500 [==============================] - 0s 49us/step - loss: 1.5280 - acc: 0.4256 - val_loss: 1.4347 - val_acc: 0.5540\n",
      "Epoch 22/200\n",
      "7500/7500 [==============================] - 0s 42us/step - loss: 1.5079 - acc: 0.4357 - val_loss: 1.4060 - val_acc: 0.5750\n",
      "Epoch 23/200\n",
      "7500/7500 [==============================] - 0s 41us/step - loss: 1.4741 - acc: 0.4543 - val_loss: 1.3722 - val_acc: 0.5810\n",
      "Epoch 24/200\n",
      "7500/7500 [==============================] - 0s 44us/step - loss: 1.4458 - acc: 0.4645 - val_loss: 1.3393 - val_acc: 0.5900\n",
      "Epoch 25/200\n",
      "7500/7500 [==============================] - 0s 48us/step - loss: 1.4232 - acc: 0.4704 - val_loss: 1.3068 - val_acc: 0.5970\n",
      "Epoch 26/200\n",
      "7500/7500 [==============================] - 0s 48us/step - loss: 1.3904 - acc: 0.4872 - val_loss: 1.2738 - val_acc: 0.6050\n",
      "Epoch 27/200\n",
      "7500/7500 [==============================] - 0s 48us/step - loss: 1.3760 - acc: 0.4955 - val_loss: 1.2479 - val_acc: 0.6160\n",
      "Epoch 28/200\n",
      "7500/7500 [==============================] - 0s 48us/step - loss: 1.3467 - acc: 0.4967 - val_loss: 1.2187 - val_acc: 0.6230\n",
      "Epoch 29/200\n",
      "7500/7500 [==============================] - 0s 46us/step - loss: 1.3302 - acc: 0.5079 - val_loss: 1.1940 - val_acc: 0.6200\n",
      "Epoch 30/200\n",
      "7500/7500 [==============================] - 0s 47us/step - loss: 1.3092 - acc: 0.5155 - val_loss: 1.1703 - val_acc: 0.6320\n",
      "Epoch 31/200\n",
      "7500/7500 [==============================] - 0s 43us/step - loss: 1.2884 - acc: 0.5197 - val_loss: 1.1443 - val_acc: 0.6450\n",
      "Epoch 32/200\n",
      "7500/7500 [==============================] - 0s 43us/step - loss: 1.2709 - acc: 0.5344 - val_loss: 1.1231 - val_acc: 0.6390\n",
      "Epoch 33/200\n",
      "7500/7500 [==============================] - 0s 46us/step - loss: 1.2471 - acc: 0.5335 - val_loss: 1.0999 - val_acc: 0.6460\n",
      "Epoch 34/200\n",
      "7500/7500 [==============================] - 0s 44us/step - loss: 1.2283 - acc: 0.5515 - val_loss: 1.0788 - val_acc: 0.6480\n",
      "Epoch 35/200\n",
      "7500/7500 [==============================] - 0s 45us/step - loss: 1.2056 - acc: 0.5545 - val_loss: 1.0572 - val_acc: 0.6570\n",
      "Epoch 36/200\n",
      "7500/7500 [==============================] - 0s 43us/step - loss: 1.1890 - acc: 0.5577 - val_loss: 1.0364 - val_acc: 0.6680\n",
      "Epoch 37/200\n",
      "7500/7500 [==============================] - 0s 46us/step - loss: 1.1741 - acc: 0.5636 - val_loss: 1.0199 - val_acc: 0.6780\n",
      "Epoch 38/200\n",
      "7500/7500 [==============================] - 0s 44us/step - loss: 1.1567 - acc: 0.5713 - val_loss: 1.0053 - val_acc: 0.6790\n",
      "Epoch 39/200\n",
      "7500/7500 [==============================] - 0s 43us/step - loss: 1.1456 - acc: 0.5693 - val_loss: 0.9893 - val_acc: 0.6700\n",
      "Epoch 40/200\n",
      "7500/7500 [==============================] - 0s 50us/step - loss: 1.1296 - acc: 0.5787 - val_loss: 0.9753 - val_acc: 0.6830\n",
      "Epoch 41/200\n",
      "7500/7500 [==============================] - 0s 57us/step - loss: 1.1019 - acc: 0.5868 - val_loss: 0.9553 - val_acc: 0.6840\n",
      "Epoch 42/200\n",
      "7500/7500 [==============================] - 0s 53us/step - loss: 1.1018 - acc: 0.5953 - val_loss: 0.9429 - val_acc: 0.6800\n",
      "Epoch 43/200\n",
      "7500/7500 [==============================] - 0s 52us/step - loss: 1.0938 - acc: 0.5995 - val_loss: 0.9329 - val_acc: 0.6780\n",
      "Epoch 44/200\n",
      "7500/7500 [==============================] - 0s 48us/step - loss: 1.0750 - acc: 0.5976 - val_loss: 0.9189 - val_acc: 0.6870\n",
      "Epoch 45/200\n",
      "7500/7500 [==============================] - 0s 45us/step - loss: 1.0717 - acc: 0.6048 - val_loss: 0.9068 - val_acc: 0.6940\n",
      "Epoch 46/200\n",
      "7500/7500 [==============================] - 0s 46us/step - loss: 1.0498 - acc: 0.6153 - val_loss: 0.8978 - val_acc: 0.6880\n",
      "Epoch 47/200\n",
      "7500/7500 [==============================] - 0s 47us/step - loss: 1.0359 - acc: 0.6145 - val_loss: 0.8863 - val_acc: 0.6890\n",
      "Epoch 48/200\n",
      "7500/7500 [==============================] - 0s 41us/step - loss: 1.0275 - acc: 0.6185 - val_loss: 0.8748 - val_acc: 0.6920\n",
      "Epoch 49/200\n",
      "7500/7500 [==============================] - 0s 49us/step - loss: 1.0145 - acc: 0.6141 - val_loss: 0.8665 - val_acc: 0.6880\n",
      "Epoch 50/200\n",
      "7500/7500 [==============================] - 0s 58us/step - loss: 1.0166 - acc: 0.6208 - val_loss: 0.8569 - val_acc: 0.7010\n",
      "Epoch 51/200\n",
      "7500/7500 [==============================] - 0s 56us/step - loss: 1.0002 - acc: 0.6244 - val_loss: 0.8501 - val_acc: 0.6950\n",
      "Epoch 52/200\n",
      "7500/7500 [==============================] - 0s 55us/step - loss: 0.9811 - acc: 0.6349 - val_loss: 0.8396 - val_acc: 0.6940\n",
      "Epoch 53/200\n",
      "7500/7500 [==============================] - 0s 51us/step - loss: 0.9692 - acc: 0.6429 - val_loss: 0.8308 - val_acc: 0.6980\n",
      "Epoch 54/200\n",
      "7500/7500 [==============================] - 0s 45us/step - loss: 0.9695 - acc: 0.6368 - val_loss: 0.8276 - val_acc: 0.7020\n",
      "Epoch 55/200\n",
      "7500/7500 [==============================] - 0s 45us/step - loss: 0.9565 - acc: 0.6395 - val_loss: 0.8192 - val_acc: 0.7040\n",
      "Epoch 56/200\n",
      "7500/7500 [==============================] - 0s 42us/step - loss: 0.9429 - acc: 0.6469 - val_loss: 0.8112 - val_acc: 0.7030\n",
      "Epoch 57/200\n",
      "7500/7500 [==============================] - 0s 44us/step - loss: 0.9458 - acc: 0.6536 - val_loss: 0.8050 - val_acc: 0.7130\n",
      "Epoch 58/200\n",
      "7500/7500 [==============================] - 0s 46us/step - loss: 0.9337 - acc: 0.6513 - val_loss: 0.7975 - val_acc: 0.7150\n",
      "Epoch 59/200\n",
      "7500/7500 [==============================] - 0s 49us/step - loss: 0.9204 - acc: 0.6572 - val_loss: 0.7916 - val_acc: 0.7140\n",
      "Epoch 60/200\n"
     ]
    },
    {
     "name": "stdout",
     "output_type": "stream",
     "text": [
      "7500/7500 [==============================] - 0s 45us/step - loss: 0.9160 - acc: 0.6543 - val_loss: 0.7867 - val_acc: 0.7120\n",
      "Epoch 61/200\n",
      "7500/7500 [==============================] - 0s 60us/step - loss: 0.9154 - acc: 0.6584 - val_loss: 0.7776 - val_acc: 0.7190\n",
      "Epoch 62/200\n",
      "7500/7500 [==============================] - 0s 52us/step - loss: 0.9040 - acc: 0.6629 - val_loss: 0.7763 - val_acc: 0.7200\n",
      "Epoch 63/200\n",
      "7500/7500 [==============================] - 0s 46us/step - loss: 0.8945 - acc: 0.6648 - val_loss: 0.7674 - val_acc: 0.7240\n",
      "Epoch 64/200\n",
      "7500/7500 [==============================] - 0s 56us/step - loss: 0.8791 - acc: 0.6693 - val_loss: 0.7647 - val_acc: 0.7230\n",
      "Epoch 65/200\n",
      "7500/7500 [==============================] - 0s 58us/step - loss: 0.8810 - acc: 0.6724 - val_loss: 0.7617 - val_acc: 0.7250\n",
      "Epoch 66/200\n",
      "7500/7500 [==============================] - 0s 64us/step - loss: 0.8800 - acc: 0.6707 - val_loss: 0.7552 - val_acc: 0.7280\n",
      "Epoch 67/200\n",
      "7500/7500 [==============================] - 0s 52us/step - loss: 0.8704 - acc: 0.6768 - val_loss: 0.7498 - val_acc: 0.7310\n",
      "Epoch 68/200\n",
      "7500/7500 [==============================] - 0s 53us/step - loss: 0.8597 - acc: 0.6737 - val_loss: 0.7489 - val_acc: 0.7260\n",
      "Epoch 69/200\n",
      "7500/7500 [==============================] - 0s 51us/step - loss: 0.8617 - acc: 0.6752 - val_loss: 0.7454 - val_acc: 0.7350\n",
      "Epoch 70/200\n",
      "7500/7500 [==============================] - 0s 63us/step - loss: 0.8526 - acc: 0.6837 - val_loss: 0.7392 - val_acc: 0.7360\n",
      "Epoch 71/200\n",
      "7500/7500 [==============================] - 0s 45us/step - loss: 0.8508 - acc: 0.6751 - val_loss: 0.7355 - val_acc: 0.7370\n",
      "Epoch 72/200\n",
      "7500/7500 [==============================] - 0s 62us/step - loss: 0.8397 - acc: 0.6872 - val_loss: 0.7328 - val_acc: 0.7340\n",
      "Epoch 73/200\n",
      "7500/7500 [==============================] - 0s 58us/step - loss: 0.8343 - acc: 0.6892 - val_loss: 0.7306 - val_acc: 0.7340\n",
      "Epoch 74/200\n",
      "7500/7500 [==============================] - 0s 50us/step - loss: 0.8351 - acc: 0.6847 - val_loss: 0.7269 - val_acc: 0.7370\n",
      "Epoch 75/200\n",
      "7500/7500 [==============================] - 0s 51us/step - loss: 0.8235 - acc: 0.6907 - val_loss: 0.7210 - val_acc: 0.7430\n",
      "Epoch 76/200\n",
      "7500/7500 [==============================] - 0s 48us/step - loss: 0.8202 - acc: 0.6921 - val_loss: 0.7188 - val_acc: 0.7410\n",
      "Epoch 77/200\n",
      "7500/7500 [==============================] - 0s 51us/step - loss: 0.8190 - acc: 0.6955 - val_loss: 0.7160 - val_acc: 0.7430\n",
      "Epoch 78/200\n",
      "7500/7500 [==============================] - 0s 43us/step - loss: 0.8007 - acc: 0.6997 - val_loss: 0.7120 - val_acc: 0.7470\n",
      "Epoch 79/200\n",
      "7500/7500 [==============================] - 0s 44us/step - loss: 0.8123 - acc: 0.6888 - val_loss: 0.7104 - val_acc: 0.7430\n",
      "Epoch 80/200\n",
      "7500/7500 [==============================] - 0s 52us/step - loss: 0.8028 - acc: 0.6940 - val_loss: 0.7083 - val_acc: 0.7470\n",
      "Epoch 81/200\n",
      "7500/7500 [==============================] - 1s 68us/step - loss: 0.8049 - acc: 0.7012 - val_loss: 0.7065 - val_acc: 0.7490\n",
      "Epoch 82/200\n",
      "7500/7500 [==============================] - 0s 58us/step - loss: 0.7979 - acc: 0.7039 - val_loss: 0.7050 - val_acc: 0.7460\n",
      "Epoch 83/200\n",
      "7500/7500 [==============================] - 0s 51us/step - loss: 0.7932 - acc: 0.6969 - val_loss: 0.7017 - val_acc: 0.7460\n",
      "Epoch 84/200\n",
      "7500/7500 [==============================] - 0s 49us/step - loss: 0.7808 - acc: 0.7039 - val_loss: 0.6970 - val_acc: 0.7490\n",
      "Epoch 85/200\n",
      "7500/7500 [==============================] - 0s 45us/step - loss: 0.7763 - acc: 0.7103 - val_loss: 0.6963 - val_acc: 0.7460\n",
      "Epoch 86/200\n",
      "7500/7500 [==============================] - 0s 42us/step - loss: 0.7693 - acc: 0.7159 - val_loss: 0.6943 - val_acc: 0.7490\n",
      "Epoch 87/200\n",
      "7500/7500 [==============================] - 0s 42us/step - loss: 0.7754 - acc: 0.7053 - val_loss: 0.6930 - val_acc: 0.7490\n",
      "Epoch 88/200\n",
      "7500/7500 [==============================] - 0s 46us/step - loss: 0.7765 - acc: 0.7043 - val_loss: 0.6927 - val_acc: 0.7530\n",
      "Epoch 89/200\n",
      "7500/7500 [==============================] - 0s 46us/step - loss: 0.7620 - acc: 0.7105 - val_loss: 0.6886 - val_acc: 0.7570\n",
      "Epoch 90/200\n",
      "7500/7500 [==============================] - 0s 45us/step - loss: 0.7588 - acc: 0.7075 - val_loss: 0.6887 - val_acc: 0.7570\n",
      "Epoch 91/200\n",
      "7500/7500 [==============================] - 0s 43us/step - loss: 0.7565 - acc: 0.7156 - val_loss: 0.6856 - val_acc: 0.7570\n",
      "Epoch 92/200\n",
      "7500/7500 [==============================] - 0s 46us/step - loss: 0.7447 - acc: 0.7120 - val_loss: 0.6858 - val_acc: 0.7540\n",
      "Epoch 93/200\n",
      "7500/7500 [==============================] - 0s 50us/step - loss: 0.7466 - acc: 0.7105 - val_loss: 0.6824 - val_acc: 0.7560\n",
      "Epoch 94/200\n",
      "7500/7500 [==============================] - 0s 44us/step - loss: 0.7333 - acc: 0.7251 - val_loss: 0.6789 - val_acc: 0.7550\n",
      "Epoch 95/200\n",
      "7500/7500 [==============================] - 0s 46us/step - loss: 0.7353 - acc: 0.7236 - val_loss: 0.6776 - val_acc: 0.7610\n",
      "Epoch 96/200\n",
      "7500/7500 [==============================] - 0s 41us/step - loss: 0.7318 - acc: 0.7232 - val_loss: 0.6782 - val_acc: 0.7560\n",
      "Epoch 97/200\n",
      "7500/7500 [==============================] - 0s 40us/step - loss: 0.7301 - acc: 0.7185 - val_loss: 0.6750 - val_acc: 0.7590\n",
      "Epoch 98/200\n",
      "7500/7500 [==============================] - 0s 44us/step - loss: 0.7291 - acc: 0.7243 - val_loss: 0.6725 - val_acc: 0.7530\n",
      "Epoch 99/200\n",
      "7500/7500 [==============================] - 0s 44us/step - loss: 0.7219 - acc: 0.7283 - val_loss: 0.6735 - val_acc: 0.7590\n",
      "Epoch 100/200\n",
      "7500/7500 [==============================] - 0s 50us/step - loss: 0.7218 - acc: 0.7187 - val_loss: 0.6745 - val_acc: 0.7490\n",
      "Epoch 101/200\n",
      "7500/7500 [==============================] - 0s 46us/step - loss: 0.7196 - acc: 0.7259 - val_loss: 0.6711 - val_acc: 0.7530\n",
      "Epoch 102/200\n",
      "7500/7500 [==============================] - 0s 47us/step - loss: 0.7130 - acc: 0.7304 - val_loss: 0.6730 - val_acc: 0.7580\n",
      "Epoch 103/200\n",
      "7500/7500 [==============================] - 0s 47us/step - loss: 0.7124 - acc: 0.7267 - val_loss: 0.6704 - val_acc: 0.7540\n",
      "Epoch 104/200\n",
      "7500/7500 [==============================] - 0s 46us/step - loss: 0.7145 - acc: 0.7284 - val_loss: 0.6659 - val_acc: 0.7590\n",
      "Epoch 105/200\n",
      "7500/7500 [==============================] - 0s 47us/step - loss: 0.7098 - acc: 0.7260 - val_loss: 0.6671 - val_acc: 0.7580\n",
      "Epoch 106/200\n",
      "7500/7500 [==============================] - 0s 47us/step - loss: 0.7005 - acc: 0.7309 - val_loss: 0.6654 - val_acc: 0.7600\n",
      "Epoch 107/200\n",
      "7500/7500 [==============================] - 0s 46us/step - loss: 0.6850 - acc: 0.7431 - val_loss: 0.6633 - val_acc: 0.7570\n",
      "Epoch 108/200\n",
      "7500/7500 [==============================] - 0s 45us/step - loss: 0.6789 - acc: 0.7443 - val_loss: 0.6598 - val_acc: 0.7570\n",
      "Epoch 109/200\n",
      "7500/7500 [==============================] - 0s 44us/step - loss: 0.6854 - acc: 0.7335 - val_loss: 0.6596 - val_acc: 0.7570\n",
      "Epoch 110/200\n",
      "7500/7500 [==============================] - 0s 46us/step - loss: 0.6837 - acc: 0.7363 - val_loss: 0.6618 - val_acc: 0.7520\n",
      "Epoch 111/200\n",
      "7500/7500 [==============================] - 0s 47us/step - loss: 0.6784 - acc: 0.7456 - val_loss: 0.6600 - val_acc: 0.7520\n",
      "Epoch 112/200\n",
      "7500/7500 [==============================] - 0s 44us/step - loss: 0.6764 - acc: 0.7521 - val_loss: 0.6586 - val_acc: 0.7550\n",
      "Epoch 113/200\n",
      "7500/7500 [==============================] - 0s 40us/step - loss: 0.6818 - acc: 0.7371 - val_loss: 0.6578 - val_acc: 0.7520\n",
      "Epoch 114/200\n",
      "7500/7500 [==============================] - 0s 41us/step - loss: 0.6706 - acc: 0.7425 - val_loss: 0.6583 - val_acc: 0.7510\n",
      "Epoch 115/200\n",
      "7500/7500 [==============================] - 0s 44us/step - loss: 0.6750 - acc: 0.7408 - val_loss: 0.6562 - val_acc: 0.7490\n",
      "Epoch 116/200\n",
      "7500/7500 [==============================] - 0s 46us/step - loss: 0.6677 - acc: 0.7411 - val_loss: 0.6557 - val_acc: 0.7530\n",
      "Epoch 117/200\n",
      "7500/7500 [==============================] - 0s 46us/step - loss: 0.6563 - acc: 0.7537 - val_loss: 0.6549 - val_acc: 0.7470\n",
      "Epoch 118/200\n",
      "7500/7500 [==============================] - 0s 46us/step - loss: 0.6597 - acc: 0.7439 - val_loss: 0.6530 - val_acc: 0.7470\n",
      "Epoch 119/200\n",
      "7500/7500 [==============================] - 0s 44us/step - loss: 0.6579 - acc: 0.7465 - val_loss: 0.6546 - val_acc: 0.7510\n"
     ]
    },
    {
     "name": "stdout",
     "output_type": "stream",
     "text": [
      "Epoch 120/200\n",
      "7500/7500 [==============================] - 0s 40us/step - loss: 0.6609 - acc: 0.7423 - val_loss: 0.6511 - val_acc: 0.7460\n",
      "Epoch 121/200\n",
      "7500/7500 [==============================] - 0s 43us/step - loss: 0.6487 - acc: 0.7501 - val_loss: 0.6519 - val_acc: 0.7470\n",
      "Epoch 122/200\n",
      "7500/7500 [==============================] - 0s 41us/step - loss: 0.6508 - acc: 0.7500 - val_loss: 0.6525 - val_acc: 0.7510\n",
      "Epoch 123/200\n",
      "7500/7500 [==============================] - 0s 41us/step - loss: 0.6465 - acc: 0.7533 - val_loss: 0.6488 - val_acc: 0.7450\n",
      "Epoch 124/200\n",
      "7500/7500 [==============================] - 0s 45us/step - loss: 0.6467 - acc: 0.7501 - val_loss: 0.6495 - val_acc: 0.7420\n",
      "Epoch 125/200\n",
      "7500/7500 [==============================] - 0s 45us/step - loss: 0.6547 - acc: 0.7471 - val_loss: 0.6479 - val_acc: 0.7440\n",
      "Epoch 126/200\n",
      "7500/7500 [==============================] - 1s 68us/step - loss: 0.6429 - acc: 0.7516 - val_loss: 0.6512 - val_acc: 0.7470\n",
      "Epoch 127/200\n",
      "7500/7500 [==============================] - 0s 48us/step - loss: 0.6351 - acc: 0.7536 - val_loss: 0.6498 - val_acc: 0.7480\n",
      "Epoch 128/200\n",
      "7500/7500 [==============================] - 0s 48us/step - loss: 0.6337 - acc: 0.7600 - val_loss: 0.6493 - val_acc: 0.7460\n",
      "Epoch 129/200\n",
      "7500/7500 [==============================] - 0s 46us/step - loss: 0.6316 - acc: 0.7556 - val_loss: 0.6487 - val_acc: 0.7490\n",
      "Epoch 130/200\n",
      "7500/7500 [==============================] - 0s 48us/step - loss: 0.6406 - acc: 0.7503 - val_loss: 0.6454 - val_acc: 0.7480\n",
      "Epoch 131/200\n",
      "7500/7500 [==============================] - 0s 44us/step - loss: 0.6353 - acc: 0.7515 - val_loss: 0.6458 - val_acc: 0.7490\n",
      "Epoch 132/200\n",
      "7500/7500 [==============================] - 0s 48us/step - loss: 0.6237 - acc: 0.7580 - val_loss: 0.6452 - val_acc: 0.7470\n",
      "Epoch 133/200\n",
      "7500/7500 [==============================] - 0s 45us/step - loss: 0.6228 - acc: 0.7651 - val_loss: 0.6453 - val_acc: 0.7440\n",
      "Epoch 134/200\n",
      "7500/7500 [==============================] - 0s 49us/step - loss: 0.6266 - acc: 0.7577 - val_loss: 0.6437 - val_acc: 0.7410\n",
      "Epoch 135/200\n",
      "7500/7500 [==============================] - 0s 65us/step - loss: 0.6288 - acc: 0.7595 - val_loss: 0.6435 - val_acc: 0.7430\n",
      "Epoch 136/200\n",
      "7500/7500 [==============================] - 0s 60us/step - loss: 0.6229 - acc: 0.7605 - val_loss: 0.6451 - val_acc: 0.7440\n",
      "Epoch 137/200\n",
      "7500/7500 [==============================] - 0s 51us/step - loss: 0.6096 - acc: 0.7628 - val_loss: 0.6430 - val_acc: 0.7410\n",
      "Epoch 138/200\n",
      "7500/7500 [==============================] - 0s 46us/step - loss: 0.6145 - acc: 0.7568 - val_loss: 0.6416 - val_acc: 0.7430\n",
      "Epoch 139/200\n",
      "7500/7500 [==============================] - 0s 52us/step - loss: 0.6091 - acc: 0.7627 - val_loss: 0.6455 - val_acc: 0.7440\n",
      "Epoch 140/200\n",
      "7500/7500 [==============================] - 0s 46us/step - loss: 0.6046 - acc: 0.7672 - val_loss: 0.6425 - val_acc: 0.7490\n",
      "Epoch 141/200\n",
      "7500/7500 [==============================] - 0s 49us/step - loss: 0.5912 - acc: 0.7767 - val_loss: 0.6416 - val_acc: 0.7520\n",
      "Epoch 142/200\n",
      "7500/7500 [==============================] - 0s 54us/step - loss: 0.5994 - acc: 0.7647 - val_loss: 0.6424 - val_acc: 0.7510\n",
      "Epoch 143/200\n",
      "7500/7500 [==============================] - 0s 47us/step - loss: 0.5941 - acc: 0.7707 - val_loss: 0.6426 - val_acc: 0.7490\n",
      "Epoch 144/200\n",
      "7500/7500 [==============================] - 0s 43us/step - loss: 0.6011 - acc: 0.7644 - val_loss: 0.6430 - val_acc: 0.7540\n",
      "Epoch 145/200\n",
      "7500/7500 [==============================] - 0s 48us/step - loss: 0.5936 - acc: 0.7661 - val_loss: 0.6418 - val_acc: 0.7480\n",
      "Epoch 146/200\n",
      "7500/7500 [==============================] - 0s 46us/step - loss: 0.6043 - acc: 0.7648 - val_loss: 0.6419 - val_acc: 0.7460\n",
      "Epoch 147/200\n",
      "7500/7500 [==============================] - 0s 48us/step - loss: 0.5887 - acc: 0.7708 - val_loss: 0.6405 - val_acc: 0.7530\n",
      "Epoch 148/200\n",
      "7500/7500 [==============================] - 0s 43us/step - loss: 0.5923 - acc: 0.7671 - val_loss: 0.6400 - val_acc: 0.7380\n",
      "Epoch 149/200\n",
      "7500/7500 [==============================] - 0s 46us/step - loss: 0.5916 - acc: 0.7716 - val_loss: 0.6417 - val_acc: 0.7440\n",
      "Epoch 150/200\n",
      "7500/7500 [==============================] - 0s 48us/step - loss: 0.5988 - acc: 0.7671 - val_loss: 0.6406 - val_acc: 0.7480\n",
      "Epoch 151/200\n",
      "7500/7500 [==============================] - 0s 51us/step - loss: 0.5694 - acc: 0.7792 - val_loss: 0.6405 - val_acc: 0.7440\n",
      "Epoch 152/200\n",
      "7500/7500 [==============================] - 0s 50us/step - loss: 0.5772 - acc: 0.7789 - val_loss: 0.6388 - val_acc: 0.7520\n",
      "Epoch 153/200\n",
      "7500/7500 [==============================] - 0s 46us/step - loss: 0.5831 - acc: 0.7743 - val_loss: 0.6398 - val_acc: 0.7520\n",
      "Epoch 154/200\n",
      "7500/7500 [==============================] - 0s 45us/step - loss: 0.5790 - acc: 0.7729 - val_loss: 0.6388 - val_acc: 0.7530\n",
      "Epoch 155/200\n",
      "7500/7500 [==============================] - 0s 47us/step - loss: 0.5763 - acc: 0.7700 - val_loss: 0.6386 - val_acc: 0.7490\n",
      "Epoch 156/200\n",
      "7500/7500 [==============================] - 0s 44us/step - loss: 0.5683 - acc: 0.7796 - val_loss: 0.6385 - val_acc: 0.7490\n",
      "Epoch 157/200\n",
      "7500/7500 [==============================] - 0s 47us/step - loss: 0.5698 - acc: 0.7788 - val_loss: 0.6377 - val_acc: 0.7350\n",
      "Epoch 158/200\n",
      "7500/7500 [==============================] - 0s 46us/step - loss: 0.5623 - acc: 0.7777 - val_loss: 0.6373 - val_acc: 0.7470\n",
      "Epoch 159/200\n",
      "7500/7500 [==============================] - 0s 51us/step - loss: 0.5665 - acc: 0.7708 - val_loss: 0.6373 - val_acc: 0.7440\n",
      "Epoch 160/200\n",
      "7500/7500 [==============================] - 0s 50us/step - loss: 0.5657 - acc: 0.7777 - val_loss: 0.6388 - val_acc: 0.7470\n",
      "Epoch 161/200\n",
      "7500/7500 [==============================] - 0s 50us/step - loss: 0.5601 - acc: 0.7836 - val_loss: 0.6402 - val_acc: 0.7520\n",
      "Epoch 162/200\n",
      "7500/7500 [==============================] - 0s 51us/step - loss: 0.5523 - acc: 0.7827 - val_loss: 0.6370 - val_acc: 0.7450\n",
      "Epoch 163/200\n",
      "7500/7500 [==============================] - 0s 45us/step - loss: 0.5498 - acc: 0.7836 - val_loss: 0.6384 - val_acc: 0.7460\n",
      "Epoch 164/200\n",
      "7500/7500 [==============================] - 0s 50us/step - loss: 0.5642 - acc: 0.7752 - val_loss: 0.6396 - val_acc: 0.7530\n",
      "Epoch 165/200\n",
      "7500/7500 [==============================] - 0s 48us/step - loss: 0.5623 - acc: 0.7760 - val_loss: 0.6384 - val_acc: 0.7390\n",
      "Epoch 166/200\n",
      "7500/7500 [==============================] - 0s 44us/step - loss: 0.5585 - acc: 0.7796 - val_loss: 0.6398 - val_acc: 0.7490\n",
      "Epoch 167/200\n",
      "7500/7500 [==============================] - 0s 48us/step - loss: 0.5370 - acc: 0.7879 - val_loss: 0.6379 - val_acc: 0.7520\n",
      "Epoch 168/200\n",
      "7500/7500 [==============================] - 0s 48us/step - loss: 0.5461 - acc: 0.7793 - val_loss: 0.6377 - val_acc: 0.7610\n",
      "Epoch 169/200\n",
      "7500/7500 [==============================] - 0s 45us/step - loss: 0.5468 - acc: 0.7853 - val_loss: 0.6402 - val_acc: 0.7530\n",
      "Epoch 170/200\n",
      "7500/7500 [==============================] - 0s 46us/step - loss: 0.5433 - acc: 0.7848 - val_loss: 0.6391 - val_acc: 0.7400\n",
      "Epoch 171/200\n",
      "7500/7500 [==============================] - 0s 48us/step - loss: 0.5374 - acc: 0.7909 - val_loss: 0.6378 - val_acc: 0.7440\n",
      "Epoch 172/200\n",
      "7500/7500 [==============================] - 0s 44us/step - loss: 0.5386 - acc: 0.7831 - val_loss: 0.6390 - val_acc: 0.7540\n",
      "Epoch 173/200\n",
      "7500/7500 [==============================] - 0s 45us/step - loss: 0.5425 - acc: 0.7853 - val_loss: 0.6369 - val_acc: 0.7450\n",
      "Epoch 174/200\n",
      "7500/7500 [==============================] - 0s 46us/step - loss: 0.5365 - acc: 0.7949 - val_loss: 0.6361 - val_acc: 0.7410\n",
      "Epoch 175/200\n",
      "7500/7500 [==============================] - 0s 45us/step - loss: 0.5371 - acc: 0.7929 - val_loss: 0.6379 - val_acc: 0.7490\n",
      "Epoch 176/200\n",
      "7500/7500 [==============================] - 0s 46us/step - loss: 0.5390 - acc: 0.7908 - val_loss: 0.6377 - val_acc: 0.7520\n",
      "Epoch 177/200\n",
      "7500/7500 [==============================] - 0s 48us/step - loss: 0.5298 - acc: 0.7948 - val_loss: 0.6373 - val_acc: 0.7500\n",
      "Epoch 178/200\n",
      "7500/7500 [==============================] - 0s 51us/step - loss: 0.5310 - acc: 0.7901 - val_loss: 0.6380 - val_acc: 0.7580\n",
      "Epoch 179/200\n"
     ]
    },
    {
     "name": "stdout",
     "output_type": "stream",
     "text": [
      "7500/7500 [==============================] - 0s 48us/step - loss: 0.5316 - acc: 0.7907 - val_loss: 0.6380 - val_acc: 0.7560\n",
      "Epoch 180/200\n",
      "7500/7500 [==============================] - 0s 46us/step - loss: 0.5261 - acc: 0.7925 - val_loss: 0.6374 - val_acc: 0.7540\n",
      "Epoch 181/200\n",
      "7500/7500 [==============================] - 0s 45us/step - loss: 0.5201 - acc: 0.7956 - val_loss: 0.6377 - val_acc: 0.7540\n",
      "Epoch 182/200\n",
      "7500/7500 [==============================] - 0s 53us/step - loss: 0.5210 - acc: 0.7941 - val_loss: 0.6386 - val_acc: 0.7520\n",
      "Epoch 183/200\n",
      "7500/7500 [==============================] - 0s 50us/step - loss: 0.5230 - acc: 0.7965 - val_loss: 0.6360 - val_acc: 0.7450\n",
      "Epoch 184/200\n",
      "7500/7500 [==============================] - 0s 49us/step - loss: 0.5142 - acc: 0.7967 - val_loss: 0.6390 - val_acc: 0.7490\n",
      "Epoch 185/200\n",
      "7500/7500 [==============================] - 0s 48us/step - loss: 0.5149 - acc: 0.7952 - val_loss: 0.6355 - val_acc: 0.7480\n",
      "Epoch 186/200\n",
      "7500/7500 [==============================] - 0s 49us/step - loss: 0.5202 - acc: 0.7931 - val_loss: 0.6359 - val_acc: 0.7450\n",
      "Epoch 187/200\n",
      "7500/7500 [==============================] - 0s 46us/step - loss: 0.5146 - acc: 0.7932 - val_loss: 0.6370 - val_acc: 0.7550\n",
      "Epoch 188/200\n",
      "7500/7500 [==============================] - 0s 50us/step - loss: 0.5168 - acc: 0.7959 - val_loss: 0.6366 - val_acc: 0.7570\n",
      "Epoch 189/200\n",
      "7500/7500 [==============================] - 0s 51us/step - loss: 0.5190 - acc: 0.7916 - val_loss: 0.6374 - val_acc: 0.7570\n",
      "Epoch 190/200\n",
      "7500/7500 [==============================] - 0s 49us/step - loss: 0.5209 - acc: 0.7973 - val_loss: 0.6367 - val_acc: 0.7540\n",
      "Epoch 191/200\n",
      "7500/7500 [==============================] - 0s 44us/step - loss: 0.5113 - acc: 0.7971 - val_loss: 0.6375 - val_acc: 0.7570\n",
      "Epoch 192/200\n",
      "7500/7500 [==============================] - 0s 44us/step - loss: 0.5106 - acc: 0.7943 - val_loss: 0.6365 - val_acc: 0.7570\n",
      "Epoch 193/200\n",
      "7500/7500 [==============================] - 0s 46us/step - loss: 0.5074 - acc: 0.7959 - val_loss: 0.6371 - val_acc: 0.7530\n",
      "Epoch 194/200\n",
      "7500/7500 [==============================] - 0s 52us/step - loss: 0.5000 - acc: 0.8000 - val_loss: 0.6374 - val_acc: 0.7570\n",
      "Epoch 195/200\n",
      "7500/7500 [==============================] - 0s 46us/step - loss: 0.5044 - acc: 0.7983 - val_loss: 0.6362 - val_acc: 0.7550\n",
      "Epoch 196/200\n",
      "7500/7500 [==============================] - 0s 48us/step - loss: 0.5041 - acc: 0.8015 - val_loss: 0.6376 - val_acc: 0.7580\n",
      "Epoch 197/200\n",
      "7500/7500 [==============================] - 0s 50us/step - loss: 0.4976 - acc: 0.8007 - val_loss: 0.6382 - val_acc: 0.7560\n",
      "Epoch 198/200\n",
      "7500/7500 [==============================] - 0s 51us/step - loss: 0.5061 - acc: 0.8005 - val_loss: 0.6364 - val_acc: 0.7590\n",
      "Epoch 199/200\n",
      "7500/7500 [==============================] - 0s 47us/step - loss: 0.5029 - acc: 0.7999 - val_loss: 0.6369 - val_acc: 0.7540\n",
      "Epoch 200/200\n",
      "7500/7500 [==============================] - 0s 50us/step - loss: 0.4965 - acc: 0.7995 - val_loss: 0.6373 - val_acc: 0.7610\n"
     ]
    },
    {
     "data": {
      "text/plain": [
       "<keras.callbacks.History at 0x1a438351d0>"
      ]
     },
     "execution_count": 102,
     "metadata": {},
     "output_type": "execute_result"
    }
   ],
   "source": [
    "from keras.layers import Dropout\n",
    "\n",
    "model = Sequential()\n",
    "\n",
    "model.add(Dense(50, activation='relu', input_shape=(2000,)))\n",
    "model.add(Dropout(0.3))\n",
    "model.add(Dense(25, activation='relu'))\n",
    "model.add(Dropout(0.3))\n",
    "model.add(Dense(7, activation='softmax'))\n",
    "\n",
    "model.compile(optimizer='SGD', loss='categorical_crossentropy', metrics=['accuracy'])\n",
    "\n",
    "model.fit(train_final, label_train_final, epochs=200,\n",
    "         batch_size=256, validation_data=(val, label_val))"
   ]
  },
  {
   "cell_type": "markdown",
   "metadata": {},
   "source": [
    "Now, let's check the results from `model.evaluate` to see how this change has affected our training. "
   ]
  },
  {
   "cell_type": "code",
   "execution_count": 103,
   "metadata": {
    "scrolled": true
   },
   "outputs": [
    {
     "name": "stdout",
     "output_type": "stream",
     "text": [
      "7500/7500 [==============================] - 0s 53us/step\n",
      "1500/1500 [==============================] - 0s 73us/step\n"
     ]
    }
   ],
   "source": [
    "results_train = model.evaluate(train_final, label_train_final)\n",
    "results_test = model.evaluate(test, label_test)"
   ]
  },
  {
   "cell_type": "code",
   "execution_count": 104,
   "metadata": {},
   "outputs": [
    {
     "data": {
      "text/plain": [
       "[0.34813563671112063, 0.8728000000317891]"
      ]
     },
     "execution_count": 104,
     "metadata": {},
     "output_type": "execute_result"
    }
   ],
   "source": [
    "results_train # Expected Results: [0.36925017188787462, 0.88026666666666664]"
   ]
  },
  {
   "cell_type": "code",
   "execution_count": 105,
   "metadata": {},
   "outputs": [
    {
     "data": {
      "text/plain": [
       "[0.6035741136868795, 0.7586666671435038]"
      ]
     },
     "execution_count": 105,
     "metadata": {},
     "output_type": "execute_result"
    }
   ],
   "source": [
    "results_test # Expected Results: [0.69210424280166627, 0.74333333365122478]"
   ]
  },
  {
   "cell_type": "markdown",
   "metadata": {},
   "source": [
    "You can see here that the validation performance has improved again! However, the variance did become higher again, compared to L1-regularization."
   ]
  },
  {
   "cell_type": "markdown",
   "metadata": {},
   "source": [
    "## 7.  More Training Data?"
   ]
  },
  {
   "cell_type": "markdown",
   "metadata": {},
   "source": [
    "Another solution to high variance is to just get more data. We actually *have* more data, but took a subset of 10,000 units before. Let's now quadruple our data set, and see what happens. Note that we are really just lucky here, and getting more data isn't always possible, but this is a useful exercise in order to understand the power of big data sets.\n",
    "\n",
    "Run the cell below to preprocess our entire dataset, instead of just working with a subset of the data.  "
   ]
  },
  {
   "cell_type": "code",
   "execution_count": 106,
   "metadata": {},
   "outputs": [],
   "source": [
    "df = pd.read_csv('Bank_complaints.csv')\n",
    "random.seed(123)\n",
    "df = df.sample(40000)\n",
    "df.index = range(40000)\n",
    "product = df[\"Product\"]\n",
    "complaints = df[\"Consumer complaint narrative\"]\n",
    "\n",
    "#one-hot encoding of the complaints\n",
    "tokenizer = Tokenizer(num_words=2000)\n",
    "tokenizer.fit_on_texts(complaints)\n",
    "sequences = tokenizer.texts_to_sequences(complaints)\n",
    "one_hot_results= tokenizer.texts_to_matrix(complaints, mode='binary')\n",
    "word_index = tokenizer.word_index\n",
    "np.shape(one_hot_results)\n",
    "\n",
    "#one-hot encoding of products\n",
    "le = preprocessing.LabelEncoder()\n",
    "le.fit(product)\n",
    "list(le.classes_)\n",
    "product_cat = le.transform(product) \n",
    "product_onehot = to_categorical(product_cat)\n",
    "\n",
    "# train test split\n",
    "test_index = random.sample(range(1,40000), 4000)\n",
    "test = one_hot_results[test_index]\n",
    "train = np.delete(one_hot_results, test_index, 0)\n",
    "label_test = product_onehot[test_index]\n",
    "label_train = np.delete(product_onehot, test_index, 0)\n",
    "\n",
    "#Validation set\n",
    "random.seed(123)\n",
    "val = train[:3000]\n",
    "train_final = train[3000:]\n",
    "label_val = label_train[:3000]\n",
    "label_train_final = label_train[3000:]"
   ]
  },
  {
   "cell_type": "markdown",
   "metadata": {},
   "source": [
    "Now, build the first model that we built, without any regularization or dropout layers included. \n",
    "\n",
    "Train this model for 120 epochs.  All other hyperparameters should stay the same.  Store the fitted model inside of `moredata_model`.  "
   ]
  },
  {
   "cell_type": "code",
   "execution_count": 107,
   "metadata": {
    "scrolled": true
   },
   "outputs": [
    {
     "name": "stdout",
     "output_type": "stream",
     "text": [
      "Train on 33000 samples, validate on 3000 samples\n",
      "Epoch 1/120\n",
      "33000/33000 [==============================] - 3s 80us/step - loss: 1.9222 - acc: 0.2014 - val_loss: 1.8780 - val_acc: 0.2510\n",
      "Epoch 2/120\n",
      "33000/33000 [==============================] - 1s 40us/step - loss: 1.8004 - acc: 0.3324 - val_loss: 1.7202 - val_acc: 0.3820\n",
      "Epoch 3/120\n",
      "33000/33000 [==============================] - 2s 46us/step - loss: 1.6089 - acc: 0.4487 - val_loss: 1.5113 - val_acc: 0.4903\n",
      "Epoch 4/120\n",
      "33000/33000 [==============================] - 1s 43us/step - loss: 1.3880 - acc: 0.5550 - val_loss: 1.2924 - val_acc: 0.6027\n",
      "Epoch 5/120\n",
      "33000/33000 [==============================] - 1s 41us/step - loss: 1.1785 - acc: 0.6372 - val_loss: 1.1015 - val_acc: 0.6650\n",
      "Epoch 6/120\n",
      "33000/33000 [==============================] - 1s 41us/step - loss: 1.0121 - acc: 0.6853 - val_loss: 0.9609 - val_acc: 0.6967\n",
      "Epoch 7/120\n",
      "33000/33000 [==============================] - 1s 43us/step - loss: 0.8958 - acc: 0.7088 - val_loss: 0.8654 - val_acc: 0.7177\n",
      "Epoch 8/120\n",
      "33000/33000 [==============================] - 1s 42us/step - loss: 0.8172 - acc: 0.7253 - val_loss: 0.7999 - val_acc: 0.7313\n",
      "Epoch 9/120\n",
      "33000/33000 [==============================] - 2s 47us/step - loss: 0.7627 - acc: 0.7365 - val_loss: 0.7552 - val_acc: 0.7403\n",
      "Epoch 10/120\n",
      "33000/33000 [==============================] - 1s 43us/step - loss: 0.7230 - acc: 0.7458 - val_loss: 0.7208 - val_acc: 0.7487\n",
      "Epoch 11/120\n",
      "33000/33000 [==============================] - 1s 42us/step - loss: 0.6926 - acc: 0.7522 - val_loss: 0.6968 - val_acc: 0.7500\n",
      "Epoch 12/120\n",
      "33000/33000 [==============================] - 1s 41us/step - loss: 0.6685 - acc: 0.7591 - val_loss: 0.6778 - val_acc: 0.7553\n",
      "Epoch 13/120\n",
      "33000/33000 [==============================] - 1s 43us/step - loss: 0.6483 - acc: 0.7645 - val_loss: 0.6652 - val_acc: 0.7563\n",
      "Epoch 14/120\n",
      "33000/33000 [==============================] - 1s 39us/step - loss: 0.6319 - acc: 0.7702 - val_loss: 0.6475 - val_acc: 0.7630\n",
      "Epoch 15/120\n",
      "33000/33000 [==============================] - 1s 40us/step - loss: 0.6173 - acc: 0.7749 - val_loss: 0.6375 - val_acc: 0.7633\n",
      "Epoch 16/120\n",
      "33000/33000 [==============================] - 1s 43us/step - loss: 0.6046 - acc: 0.7787 - val_loss: 0.6277 - val_acc: 0.7683\n",
      "Epoch 17/120\n",
      "33000/33000 [==============================] - 1s 41us/step - loss: 0.5930 - acc: 0.7837 - val_loss: 0.6201 - val_acc: 0.7700\n",
      "Epoch 18/120\n",
      "33000/33000 [==============================] - 1s 41us/step - loss: 0.5825 - acc: 0.7876 - val_loss: 0.6168 - val_acc: 0.7687\n",
      "Epoch 19/120\n",
      "33000/33000 [==============================] - 1s 42us/step - loss: 0.5730 - acc: 0.7914 - val_loss: 0.6077 - val_acc: 0.7777\n",
      "Epoch 20/120\n",
      "33000/33000 [==============================] - 1s 40us/step - loss: 0.5643 - acc: 0.7945 - val_loss: 0.5999 - val_acc: 0.7763\n",
      "Epoch 21/120\n",
      "33000/33000 [==============================] - 1s 44us/step - loss: 0.5560 - acc: 0.7970 - val_loss: 0.5954 - val_acc: 0.7810\n",
      "Epoch 22/120\n",
      "33000/33000 [==============================] - 1s 43us/step - loss: 0.5484 - acc: 0.8007 - val_loss: 0.5919 - val_acc: 0.7797\n",
      "Epoch 23/120\n",
      "33000/33000 [==============================] - 1s 39us/step - loss: 0.5412 - acc: 0.8034 - val_loss: 0.5868 - val_acc: 0.7820\n",
      "Epoch 24/120\n",
      "33000/33000 [==============================] - 1s 42us/step - loss: 0.5345 - acc: 0.8067 - val_loss: 0.5833 - val_acc: 0.7837\n",
      "Epoch 25/120\n",
      "33000/33000 [==============================] - 1s 39us/step - loss: 0.5278 - acc: 0.8093 - val_loss: 0.5808 - val_acc: 0.7820\n",
      "Epoch 26/120\n",
      "33000/33000 [==============================] - 1s 42us/step - loss: 0.5214 - acc: 0.8115 - val_loss: 0.5783 - val_acc: 0.7907\n",
      "Epoch 27/120\n",
      "33000/33000 [==============================] - 1s 40us/step - loss: 0.5156 - acc: 0.8134 - val_loss: 0.5749 - val_acc: 0.7867\n",
      "Epoch 28/120\n",
      "33000/33000 [==============================] - 1s 41us/step - loss: 0.5102 - acc: 0.8156 - val_loss: 0.5711 - val_acc: 0.7953\n",
      "Epoch 29/120\n",
      "33000/33000 [==============================] - 1s 39us/step - loss: 0.5049 - acc: 0.8172 - val_loss: 0.5670 - val_acc: 0.7920\n",
      "Epoch 30/120\n",
      "33000/33000 [==============================] - 1s 44us/step - loss: 0.4994 - acc: 0.8204 - val_loss: 0.5684 - val_acc: 0.7907\n",
      "Epoch 31/120\n",
      "33000/33000 [==============================] - 1s 38us/step - loss: 0.4946 - acc: 0.8217 - val_loss: 0.5625 - val_acc: 0.7940\n",
      "Epoch 32/120\n",
      "33000/33000 [==============================] - 1s 43us/step - loss: 0.4898 - acc: 0.8229 - val_loss: 0.5632 - val_acc: 0.7927\n",
      "Epoch 33/120\n",
      "33000/33000 [==============================] - 1s 40us/step - loss: 0.4852 - acc: 0.8258 - val_loss: 0.5578 - val_acc: 0.7977\n",
      "Epoch 34/120\n",
      "33000/33000 [==============================] - 1s 40us/step - loss: 0.4812 - acc: 0.8273 - val_loss: 0.5563 - val_acc: 0.7997\n",
      "Epoch 35/120\n",
      "33000/33000 [==============================] - 2s 47us/step - loss: 0.4769 - acc: 0.8286 - val_loss: 0.5551 - val_acc: 0.7957\n",
      "Epoch 36/120\n",
      "33000/33000 [==============================] - 1s 38us/step - loss: 0.4725 - acc: 0.8307 - val_loss: 0.5535 - val_acc: 0.8013\n",
      "Epoch 37/120\n",
      "33000/33000 [==============================] - 1s 41us/step - loss: 0.4686 - acc: 0.8327 - val_loss: 0.5510 - val_acc: 0.8023\n",
      "Epoch 38/120\n",
      "33000/33000 [==============================] - 1s 43us/step - loss: 0.4650 - acc: 0.8327 - val_loss: 0.5482 - val_acc: 0.8037\n",
      "Epoch 39/120\n",
      "33000/33000 [==============================] - 1s 44us/step - loss: 0.4611 - acc: 0.8352 - val_loss: 0.5500 - val_acc: 0.8037\n",
      "Epoch 40/120\n",
      "33000/33000 [==============================] - 2s 49us/step - loss: 0.4572 - acc: 0.8366 - val_loss: 0.5454 - val_acc: 0.8033\n",
      "Epoch 41/120\n",
      "33000/33000 [==============================] - 1s 42us/step - loss: 0.4538 - acc: 0.8372 - val_loss: 0.5450 - val_acc: 0.8080\n",
      "Epoch 42/120\n",
      "33000/33000 [==============================] - 1s 42us/step - loss: 0.4504 - acc: 0.8393 - val_loss: 0.5459 - val_acc: 0.8047\n",
      "Epoch 43/120\n",
      "33000/33000 [==============================] - 1s 42us/step - loss: 0.4471 - acc: 0.8402 - val_loss: 0.5439 - val_acc: 0.8067\n",
      "Epoch 44/120\n",
      "33000/33000 [==============================] - 1s 40us/step - loss: 0.4439 - acc: 0.8411 - val_loss: 0.5404 - val_acc: 0.8090\n",
      "Epoch 45/120\n",
      "33000/33000 [==============================] - 1s 39us/step - loss: 0.4404 - acc: 0.8424 - val_loss: 0.5415 - val_acc: 0.8090\n",
      "Epoch 46/120\n",
      "33000/33000 [==============================] - 1s 39us/step - loss: 0.4378 - acc: 0.8435 - val_loss: 0.5399 - val_acc: 0.8103\n",
      "Epoch 47/120\n",
      "33000/33000 [==============================] - 1s 41us/step - loss: 0.4345 - acc: 0.8443 - val_loss: 0.5444 - val_acc: 0.8080\n",
      "Epoch 48/120\n",
      "33000/33000 [==============================] - 1s 40us/step - loss: 0.4318 - acc: 0.8462 - val_loss: 0.5394 - val_acc: 0.8110\n",
      "Epoch 49/120\n",
      "33000/33000 [==============================] - 1s 40us/step - loss: 0.4288 - acc: 0.8475 - val_loss: 0.5386 - val_acc: 0.8083\n",
      "Epoch 50/120\n",
      "33000/33000 [==============================] - 1s 41us/step - loss: 0.4260 - acc: 0.8468 - val_loss: 0.5368 - val_acc: 0.8100\n",
      "Epoch 51/120\n",
      "33000/33000 [==============================] - 1s 42us/step - loss: 0.4231 - acc: 0.8488 - val_loss: 0.5361 - val_acc: 0.8103\n",
      "Epoch 52/120\n",
      "33000/33000 [==============================] - 1s 40us/step - loss: 0.4206 - acc: 0.8498 - val_loss: 0.5361 - val_acc: 0.8170\n",
      "Epoch 53/120\n",
      "33000/33000 [==============================] - 1s 38us/step - loss: 0.4180 - acc: 0.8502 - val_loss: 0.5346 - val_acc: 0.8117\n",
      "Epoch 54/120\n",
      "33000/33000 [==============================] - 1s 38us/step - loss: 0.4153 - acc: 0.8522 - val_loss: 0.5370 - val_acc: 0.8130\n",
      "Epoch 55/120\n",
      "33000/33000 [==============================] - 1s 40us/step - loss: 0.4132 - acc: 0.8527 - val_loss: 0.5345 - val_acc: 0.8120\n",
      "Epoch 56/120\n",
      "33000/33000 [==============================] - 1s 40us/step - loss: 0.4103 - acc: 0.8543 - val_loss: 0.5331 - val_acc: 0.8143\n",
      "Epoch 57/120\n",
      "33000/33000 [==============================] - 1s 44us/step - loss: 0.4079 - acc: 0.8547 - val_loss: 0.5327 - val_acc: 0.8133\n",
      "Epoch 58/120\n",
      "33000/33000 [==============================] - 1s 44us/step - loss: 0.4055 - acc: 0.8552 - val_loss: 0.5332 - val_acc: 0.8127\n",
      "Epoch 59/120\n"
     ]
    },
    {
     "name": "stdout",
     "output_type": "stream",
     "text": [
      "33000/33000 [==============================] - 1s 45us/step - loss: 0.4037 - acc: 0.8562 - val_loss: 0.5326 - val_acc: 0.8140\n",
      "Epoch 60/120\n",
      "33000/33000 [==============================] - 2s 47us/step - loss: 0.4008 - acc: 0.8569 - val_loss: 0.5339 - val_acc: 0.8120\n",
      "Epoch 61/120\n",
      "33000/33000 [==============================] - 2s 50us/step - loss: 0.3989 - acc: 0.8578 - val_loss: 0.5334 - val_acc: 0.8107\n",
      "Epoch 62/120\n",
      "33000/33000 [==============================] - 1s 44us/step - loss: 0.3969 - acc: 0.8591 - val_loss: 0.5323 - val_acc: 0.8133\n",
      "Epoch 63/120\n",
      "33000/33000 [==============================] - 1s 43us/step - loss: 0.3947 - acc: 0.8603 - val_loss: 0.5320 - val_acc: 0.8147\n",
      "Epoch 64/120\n",
      "33000/33000 [==============================] - 1s 42us/step - loss: 0.3927 - acc: 0.8604 - val_loss: 0.5356 - val_acc: 0.8167\n",
      "Epoch 65/120\n",
      "33000/33000 [==============================] - 2s 46us/step - loss: 0.3907 - acc: 0.8607 - val_loss: 0.5333 - val_acc: 0.8127\n",
      "Epoch 66/120\n",
      "33000/33000 [==============================] - 1s 42us/step - loss: 0.3888 - acc: 0.8615 - val_loss: 0.5315 - val_acc: 0.8183\n",
      "Epoch 67/120\n",
      "33000/33000 [==============================] - 1s 44us/step - loss: 0.3865 - acc: 0.8623 - val_loss: 0.5334 - val_acc: 0.8157\n",
      "Epoch 68/120\n",
      "33000/33000 [==============================] - 1s 43us/step - loss: 0.3845 - acc: 0.8634 - val_loss: 0.5315 - val_acc: 0.8163\n",
      "Epoch 69/120\n",
      "33000/33000 [==============================] - 1s 42us/step - loss: 0.3828 - acc: 0.8634 - val_loss: 0.5330 - val_acc: 0.8140\n",
      "Epoch 70/120\n",
      "33000/33000 [==============================] - 2s 57us/step - loss: 0.3809 - acc: 0.8649 - val_loss: 0.5331 - val_acc: 0.8167\n",
      "Epoch 71/120\n",
      "33000/33000 [==============================] - 2s 46us/step - loss: 0.3790 - acc: 0.8649 - val_loss: 0.5345 - val_acc: 0.8167\n",
      "Epoch 72/120\n",
      "33000/33000 [==============================] - 1s 44us/step - loss: 0.3768 - acc: 0.8657 - val_loss: 0.5322 - val_acc: 0.8157\n",
      "Epoch 73/120\n",
      "33000/33000 [==============================] - 1s 41us/step - loss: 0.3752 - acc: 0.8668 - val_loss: 0.5333 - val_acc: 0.8153\n",
      "Epoch 74/120\n",
      "33000/33000 [==============================] - 1s 43us/step - loss: 0.3736 - acc: 0.8675 - val_loss: 0.5322 - val_acc: 0.8150\n",
      "Epoch 75/120\n",
      "33000/33000 [==============================] - 2s 52us/step - loss: 0.3716 - acc: 0.8689 - val_loss: 0.5362 - val_acc: 0.8123\n",
      "Epoch 76/120\n",
      "33000/33000 [==============================] - 1s 44us/step - loss: 0.3701 - acc: 0.8685 - val_loss: 0.5344 - val_acc: 0.8167\n",
      "Epoch 77/120\n",
      "33000/33000 [==============================] - 1s 43us/step - loss: 0.3684 - acc: 0.8689 - val_loss: 0.5357 - val_acc: 0.8167\n",
      "Epoch 78/120\n",
      "33000/33000 [==============================] - 1s 41us/step - loss: 0.3669 - acc: 0.8694 - val_loss: 0.5340 - val_acc: 0.8157\n",
      "Epoch 79/120\n",
      "33000/33000 [==============================] - 1s 41us/step - loss: 0.3650 - acc: 0.8709 - val_loss: 0.5385 - val_acc: 0.8127\n",
      "Epoch 80/120\n",
      "33000/33000 [==============================] - 1s 45us/step - loss: 0.3632 - acc: 0.8712 - val_loss: 0.5350 - val_acc: 0.8177\n",
      "Epoch 81/120\n",
      "33000/33000 [==============================] - 1s 39us/step - loss: 0.3619 - acc: 0.8714 - val_loss: 0.5370 - val_acc: 0.8143\n",
      "Epoch 82/120\n",
      "33000/33000 [==============================] - 1s 39us/step - loss: 0.3602 - acc: 0.8722 - val_loss: 0.5420 - val_acc: 0.8130\n",
      "Epoch 83/120\n",
      "33000/33000 [==============================] - 1s 42us/step - loss: 0.3586 - acc: 0.8734 - val_loss: 0.5346 - val_acc: 0.8173\n",
      "Epoch 84/120\n",
      "33000/33000 [==============================] - 1s 39us/step - loss: 0.3567 - acc: 0.8745 - val_loss: 0.5391 - val_acc: 0.8157\n",
      "Epoch 85/120\n",
      "33000/33000 [==============================] - 1s 43us/step - loss: 0.3555 - acc: 0.8737 - val_loss: 0.5376 - val_acc: 0.8170\n",
      "Epoch 86/120\n",
      "33000/33000 [==============================] - 1s 39us/step - loss: 0.3538 - acc: 0.8747 - val_loss: 0.5379 - val_acc: 0.8167\n",
      "Epoch 87/120\n",
      "33000/33000 [==============================] - 1s 39us/step - loss: 0.3526 - acc: 0.8750 - val_loss: 0.5383 - val_acc: 0.8173\n",
      "Epoch 88/120\n",
      "33000/33000 [==============================] - 1s 40us/step - loss: 0.3510 - acc: 0.8761 - val_loss: 0.5440 - val_acc: 0.8160\n",
      "Epoch 89/120\n",
      "33000/33000 [==============================] - 1s 40us/step - loss: 0.3494 - acc: 0.8767 - val_loss: 0.5393 - val_acc: 0.8157\n",
      "Epoch 90/120\n",
      "33000/33000 [==============================] - 1s 40us/step - loss: 0.3481 - acc: 0.8761 - val_loss: 0.5403 - val_acc: 0.8173\n",
      "Epoch 91/120\n",
      "33000/33000 [==============================] - 1s 42us/step - loss: 0.3468 - acc: 0.8783 - val_loss: 0.5405 - val_acc: 0.8173\n",
      "Epoch 92/120\n",
      "33000/33000 [==============================] - 1s 39us/step - loss: 0.3458 - acc: 0.8782 - val_loss: 0.5423 - val_acc: 0.8170\n",
      "Epoch 93/120\n",
      "33000/33000 [==============================] - 1s 39us/step - loss: 0.3439 - acc: 0.8782 - val_loss: 0.5423 - val_acc: 0.8187\n",
      "Epoch 94/120\n",
      "33000/33000 [==============================] - 1s 40us/step - loss: 0.3430 - acc: 0.8785 - val_loss: 0.5430 - val_acc: 0.8183\n",
      "Epoch 95/120\n",
      "33000/33000 [==============================] - 1s 40us/step - loss: 0.3408 - acc: 0.8799 - val_loss: 0.5444 - val_acc: 0.8190\n",
      "Epoch 96/120\n",
      "33000/33000 [==============================] - 1s 41us/step - loss: 0.3400 - acc: 0.8799 - val_loss: 0.5428 - val_acc: 0.8190\n",
      "Epoch 97/120\n",
      "33000/33000 [==============================] - 1s 41us/step - loss: 0.3387 - acc: 0.8798 - val_loss: 0.5482 - val_acc: 0.8160\n",
      "Epoch 98/120\n",
      "33000/33000 [==============================] - 1s 40us/step - loss: 0.3375 - acc: 0.8813 - val_loss: 0.5457 - val_acc: 0.8183\n",
      "Epoch 99/120\n",
      "33000/33000 [==============================] - 1s 41us/step - loss: 0.3360 - acc: 0.8817 - val_loss: 0.5463 - val_acc: 0.8180\n",
      "Epoch 100/120\n",
      "33000/33000 [==============================] - 1s 41us/step - loss: 0.3349 - acc: 0.8824 - val_loss: 0.5487 - val_acc: 0.8183\n",
      "Epoch 101/120\n",
      "33000/33000 [==============================] - 1s 42us/step - loss: 0.3337 - acc: 0.8828 - val_loss: 0.5485 - val_acc: 0.8183\n",
      "Epoch 102/120\n",
      "33000/33000 [==============================] - 1s 39us/step - loss: 0.3323 - acc: 0.8828 - val_loss: 0.5496 - val_acc: 0.8197\n",
      "Epoch 103/120\n",
      "33000/33000 [==============================] - 1s 40us/step - loss: 0.3310 - acc: 0.8834 - val_loss: 0.5484 - val_acc: 0.8157\n",
      "Epoch 104/120\n",
      "33000/33000 [==============================] - 1s 41us/step - loss: 0.3301 - acc: 0.8842 - val_loss: 0.5529 - val_acc: 0.8163\n",
      "Epoch 105/120\n",
      "33000/33000 [==============================] - 1s 40us/step - loss: 0.3284 - acc: 0.8850 - val_loss: 0.5518 - val_acc: 0.8190\n",
      "Epoch 106/120\n",
      "33000/33000 [==============================] - 1s 41us/step - loss: 0.3274 - acc: 0.8853 - val_loss: 0.5513 - val_acc: 0.8147\n",
      "Epoch 107/120\n",
      "33000/33000 [==============================] - 1s 40us/step - loss: 0.3267 - acc: 0.8851 - val_loss: 0.5532 - val_acc: 0.8170\n",
      "Epoch 108/120\n",
      "33000/33000 [==============================] - 1s 39us/step - loss: 0.3252 - acc: 0.8861 - val_loss: 0.5533 - val_acc: 0.8150\n",
      "Epoch 109/120\n",
      "33000/33000 [==============================] - 2s 48us/step - loss: 0.3239 - acc: 0.8862 - val_loss: 0.5575 - val_acc: 0.8133\n",
      "Epoch 110/120\n",
      "33000/33000 [==============================] - 2s 47us/step - loss: 0.3228 - acc: 0.8878 - val_loss: 0.5552 - val_acc: 0.8173\n",
      "Epoch 111/120\n",
      "33000/33000 [==============================] - 1s 39us/step - loss: 0.3215 - acc: 0.8872 - val_loss: 0.5559 - val_acc: 0.8173\n",
      "Epoch 112/120\n",
      "33000/33000 [==============================] - 1s 40us/step - loss: 0.3202 - acc: 0.8868 - val_loss: 0.5577 - val_acc: 0.8197\n",
      "Epoch 113/120\n",
      "33000/33000 [==============================] - 1s 38us/step - loss: 0.3195 - acc: 0.8876 - val_loss: 0.5576 - val_acc: 0.8180\n",
      "Epoch 114/120\n",
      "33000/33000 [==============================] - 1s 41us/step - loss: 0.3183 - acc: 0.8889 - val_loss: 0.5594 - val_acc: 0.8187\n",
      "Epoch 115/120\n",
      "33000/33000 [==============================] - 2s 53us/step - loss: 0.3171 - acc: 0.8880 - val_loss: 0.5621 - val_acc: 0.8133\n",
      "Epoch 116/120\n",
      "33000/33000 [==============================] - 2s 46us/step - loss: 0.3161 - acc: 0.8899 - val_loss: 0.5611 - val_acc: 0.8137\n",
      "Epoch 117/120\n",
      "33000/33000 [==============================] - 2s 49us/step - loss: 0.3151 - acc: 0.8897 - val_loss: 0.5631 - val_acc: 0.8133\n"
     ]
    },
    {
     "name": "stdout",
     "output_type": "stream",
     "text": [
      "Epoch 118/120\n",
      "33000/33000 [==============================] - 1s 42us/step - loss: 0.3139 - acc: 0.8905 - val_loss: 0.5636 - val_acc: 0.8163\n",
      "Epoch 119/120\n",
      "33000/33000 [==============================] - 1s 44us/step - loss: 0.3128 - acc: 0.8908 - val_loss: 0.5641 - val_acc: 0.8187\n",
      "Epoch 120/120\n",
      "33000/33000 [==============================] - 2s 51us/step - loss: 0.3120 - acc: 0.8912 - val_loss: 0.5650 - val_acc: 0.8140\n"
     ]
    }
   ],
   "source": [
    "model = Sequential()\n",
    "\n",
    "model.add(Dense(50, activation='relu', input_shape=(2000,)))\n",
    "model.add(Dense(25, activation='relu'))\n",
    "model.add(Dense(7, activation='softmax'))\n",
    "\n",
    "model.compile(optimizer='SGD', loss='categorical_crossentropy', metrics=['accuracy'])\n",
    "\n",
    "moredata_model = model.fit(train_final, label_train_final, epochs=120,\n",
    "                          batch_size=256, validation_data=(val, label_val))"
   ]
  },
  {
   "cell_type": "markdown",
   "metadata": {},
   "source": [
    "Now, finally, let's check the results returned from `model.evaluate()` to see how this model stacks up with the other techniques we've used.  "
   ]
  },
  {
   "cell_type": "code",
   "execution_count": 108,
   "metadata": {},
   "outputs": [
    {
     "name": "stdout",
     "output_type": "stream",
     "text": [
      "33000/33000 [==============================] - 2s 59us/step\n",
      "4000/4000 [==============================] - 0s 92us/step\n"
     ]
    }
   ],
   "source": [
    "results_train = model.evaluate(train_final, label_train_final)\n",
    "results_test = model.evaluate(test, label_test)"
   ]
  },
  {
   "cell_type": "code",
   "execution_count": 109,
   "metadata": {},
   "outputs": [
    {
     "data": {
      "text/plain": [
       "[0.30644209111098086, 0.8935454545454545]"
      ]
     },
     "execution_count": 109,
     "metadata": {},
     "output_type": "execute_result"
    }
   ],
   "source": [
    "results_train # Expected Output:  [0.31160746300942971, 0.89160606060606062]"
   ]
  },
  {
   "cell_type": "code",
   "execution_count": 110,
   "metadata": {},
   "outputs": [
    {
     "data": {
      "text/plain": [
       "[0.570171034693718, 0.80275]"
      ]
     },
     "execution_count": 110,
     "metadata": {},
     "output_type": "execute_result"
    }
   ],
   "source": [
    "results_test # Expected Output: [0.56076071488857271, 0.8145]"
   ]
  },
  {
   "cell_type": "markdown",
   "metadata": {},
   "source": [
    "With the same amount of epochs, we were able to get a fairly similar validation accuracy of 89.1%. Our test set accuracy went up from ~75% to a staggering 81.45% though, without any other regularization technique. You can still consider early stopping, L1, L2 and dropout here. It's clear that having more data has a strong impact on model performance!"
   ]
  },
  {
   "cell_type": "markdown",
   "metadata": {},
   "source": [
    "## Sources"
   ]
  },
  {
   "cell_type": "markdown",
   "metadata": {},
   "source": [
    "https://github.com/susanli2016/Machine-Learning-with-Python/blob/master/Consumer_complaints.ipynb"
   ]
  },
  {
   "cell_type": "markdown",
   "metadata": {},
   "source": [
    "https://catalog.data.gov/dataset/consumer-complaint-database"
   ]
  },
  {
   "cell_type": "markdown",
   "metadata": {},
   "source": [
    "## Further reading"
   ]
  },
  {
   "cell_type": "markdown",
   "metadata": {},
   "source": [
    "https://machinelearningmastery.com/dropout-regularization-deep-learning-models-keras/"
   ]
  }
 ],
 "metadata": {
  "kernelspec": {
   "display_name": "Python 3",
   "language": "python",
   "name": "python3"
  },
  "language_info": {
   "codemirror_mode": {
    "name": "ipython",
    "version": 3
   },
   "file_extension": ".py",
   "mimetype": "text/x-python",
   "name": "python",
   "nbconvert_exporter": "python",
   "pygments_lexer": "ipython3",
   "version": "3.6.5"
  }
 },
 "nbformat": 4,
 "nbformat_minor": 2
}
